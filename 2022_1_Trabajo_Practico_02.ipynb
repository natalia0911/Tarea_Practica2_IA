{
  "cells": [
    {
      "cell_type": "markdown",
      "metadata": {
        "id": "view-in-github",
        "colab_type": "text"
      },
      "source": [
        "<a href=\"https://colab.research.google.com/github/natalia0911/Tarea_Practica_2_IA/blob/main/2022_1_Trabajo_Practico_02.ipynb\" target=\"_parent\"><img src=\"https://colab.research.google.com/assets/colab-badge.svg\" alt=\"Open In Colab\"/></a>"
      ]
    },
    {
      "cell_type": "markdown",
      "metadata": {
        "id": "Y5zYLAE8LTvr"
      },
      "source": [
        "**Instituto Tecnológico de Costa Rica**\n",
        "\n",
        "**Escuela de Ingeniería en Computación**\n",
        "\n",
        "**Curso: Inteligencia Artificial**\n",
        "\n",
        "**Primer Semestre 2022**\n",
        "\n",
        "**Profesor: Luis-Alexander Calvo-Valverde**\n",
        "\n",
        "**Trabajo Práctico:** 02\n",
        "\n",
        "**Datos de la entrega:** Lunes 02 de mayo 2022, a más tardar a las 11:59 pm\n",
        "\n",
        "**Estudiantes:**\n",
        "- Natalia Vanessa Vargas Reyes\n",
        "- Fabricio Elizondo Fernández\n",
        "\n",
        "\n",
        "\n"
      ]
    },
    {
      "cell_type": "markdown",
      "metadata": {
        "id": "9YxAmoW4y3IJ"
      },
      "source": [
        "___\n",
        "\n",
        "# Parte 1  -  Ejercicio  (80 puntos)\n",
        "___"
      ]
    },
    {
      "cell_type": "markdown",
      "metadata": {
        "id": "0lBpaSc9y3IK"
      },
      "source": [
        "## Introducción\n",
        "\n",
        "Considere:\n",
        "- Se le proporciona un conjunto de datos (HousePriceDataset), si desea conocer un poco de los atributos puede consultar en: https://www.kaggle.com/c/house-prices-advanced-regression-techniques/data?select=train.csv\n",
        "- Note que en la página proporcionada se mencionan más atributos de los que contiene el archivo facilitado.  Usaremos como punto de partida para este TP-2, solo los que incluye el archivo adjunto.\n",
        "- El objetivo de esta parte es ver como el estudiante se enfrenta al proceso de pre-procesamiento, selección de atributos, predicción y evaluación.  Por eso es muy importante que documente en este cuaderno sus decisiones, eso se tomará muy en cuenta en la evaluación de su respuesta.\n",
        "- El atributo a predecir en regresión se denomina: SalePrice.\n",
        "- Debe comentar ampliamente su código\n"
      ]
    },
    {
      "cell_type": "code",
      "execution_count": 1,
      "metadata": {
        "id": "GOqkb2-ly3IK"
      },
      "outputs": [],
      "source": [
        "%matplotlib inline\n",
        "import pandas as pd\n",
        "import math\n",
        "import matplotlib.pyplot as plt\n",
        "import numpy as np\n",
        "import seaborn as sn\n",
        "from sklearn.model_selection import train_test_split\n",
        "from sklearn import linear_model\n",
        "from sklearn.linear_model import LassoLars\n",
        "from sklearn.preprocessing import RobustScaler\n",
        "from sklearn.preprocessing import MinMaxScaler\n",
        "from sklearn.metrics import mean_squared_error\n",
        "from sklearn.metrics import r2_score\n",
        "from sklearn.model_selection import KFold"
      ]
    },
    {
      "cell_type": "markdown",
      "metadata": {
        "id": "EH4wZ1YRAqxb"
      },
      "source": [
        "### 1 (10 puntos)\n",
        "- Cargue el archivo.\n",
        "- Utilice las herramientas (gráficos, funciones que describen contenido o características de las variables, etc) que considere necesarias para analizar los atributos que tiene el dataset y ver si tiene valores faltantes, valores atípicos, etc.\n",
        "- Comente sus conclusiones sobre los atritubos.\n"
      ]
    },
    {
      "cell_type": "code",
      "execution_count": 3,
      "metadata": {
        "id": "BA-EP3RPAqxW",
        "colab": {
          "base_uri": "https://localhost:8080/"
        },
        "outputId": "53ccc9d8-c7bb-4294-e976-703634133be1"
      },
      "outputs": [
        {
          "output_type": "stream",
          "name": "stdout",
          "text": [
            "   Id  MSSubClass MSZoning Neighborhood  OverallQual RoofStyle BsmtQual  \\\n",
            "0   1          60       RL      CollgCr            7     Gable       Gd   \n",
            "1   2          20       RL      Veenker            6     Gable       Gd   \n",
            "2   3          60       RL      CollgCr            7     Gable       Gd   \n",
            "3   4          70       RL      Crawfor            7     Gable       TA   \n",
            "4   5          60       RL      NoRidge            8     Gable       Gd   \n",
            "\n",
            "  HeatingQC CentralAir  1stFlrSF  GrLivArea  BsmtFullBath KitchenQual  \\\n",
            "0        Ex          Y       856       1710             1          Gd   \n",
            "1        Ex          Y      1262       1262             0          TA   \n",
            "2        Ex          Y       920       1786             1          Gd   \n",
            "3        Gd          Y       961       1717             1          Gd   \n",
            "4        Ex          Y      1145       2198             1          Gd   \n",
            "\n",
            "  GarageType GarageFinish  GarageCars PavedDrive  SalePrice  \n",
            "0     Attchd          RFn           2          Y     208500  \n",
            "1     Attchd          RFn           2          Y     181500  \n",
            "2     Attchd          RFn           2          Y     223500  \n",
            "3     Detchd          Unf           3          Y     140000  \n",
            "4     Attchd          RFn           3          Y     250000  \n"
          ]
        }
      ],
      "source": [
        "dataset = pd.read_csv('HousePriceDataset.csv', header = 0, delimiter=';')  \n",
        "#print(dataset.describe())\n",
        "print(dataset.head(5))"
      ]
    },
    {
      "cell_type": "markdown",
      "source": [
        "####Matriz de correlación\n",
        "Con esta podemos ver de manera sencilla la relación entre los valores de los distintos atributos, aunque para este caso solo los numéricos.\n",
        "Un valor de correlación alto y positivo indica que los elementos miden la misma destreza o característica."
      ],
      "metadata": {
        "id": "8zSTd_Bt3In-"
      }
    },
    {
      "cell_type": "code",
      "source": [
        "corrMatrix = dataset.corr()\n",
        "sn.heatmap(corrMatrix, annot=True)"
      ],
      "metadata": {
        "colab": {
          "base_uri": "https://localhost:8080/",
          "height": 344
        },
        "id": "zFyEBSsIHioD",
        "outputId": "b1e8c90e-503c-4a75-8f10-a65d1232e022"
      },
      "execution_count": null,
      "outputs": [
        {
          "output_type": "execute_result",
          "data": {
            "text/plain": [
              "<matplotlib.axes._subplots.AxesSubplot at 0x7fc7bb8a1910>"
            ]
          },
          "metadata": {},
          "execution_count": 9
        },
        {
          "output_type": "display_data",
          "data": {
            "text/plain": [
              "<Figure size 432x288 with 2 Axes>"
            ],
            "image/png": "[encoded data removed]"
          },
          "metadata": {
            "needs_background": "light"
          }
        }
      ]
    },
    {
      "cell_type": "markdown",
      "source": [
        "####Histogramas\n",
        "A continuación se muestran histogramas de los atributos. Esto nos permitirá ver las distribuciones de los mismos, y determinar cuales son ordinales o categoricos, de manera que más adelante se puedan tomar las medidas del caso codificando esos determinados atributos."
      ],
      "metadata": {
        "id": "k0GZRGuvo-Oe"
      }
    },
    {
      "cell_type": "code",
      "source": [
        "# Se grafica con un histograma cada uno de los atributos\n",
        "fig, axs = plt.subplots(6, 3, constrained_layout=True, figsize=(15,15))\n",
        "fig.suptitle('Histograma de cada variable', fontsize=16)\n",
        "\n",
        "d = 1\n",
        "for i in range(6):\n",
        "  for j in range(3):\n",
        "    if i == 3 and j == 2:\n",
        "      break\n",
        "    else:\n",
        "      axs[i,j].set_title(dataset.columns[d])\n",
        "      dataset.iloc[:, d].hist(ax=axs[i,j])\n",
        "      d += 1\n",
        "plt.show()"
      ],
      "metadata": {
        "colab": {
          "base_uri": "https://localhost:8080/",
          "height": 1000
        },
        "id": "2vEYqjRMsVWS",
        "outputId": "eb7d1888-27c1-4c01-9a52-8e2d2d9481d6"
      },
      "execution_count": null,
      "outputs": [
        {
          "output_type": "display_data",
          "data": {
            "text/plain": [
              "<Figure size 1080x1080 with 18 Axes>"
            ],
            "image/png": "[encoded data removed]"
          },
          "metadata": {
            "needs_background": "light"
          }
        }
      ]
    },
    {
      "cell_type": "markdown",
      "source": [
        "Como se puede observar con las gráficas, tenemos varios atributos que se podrían codificar ya que son variables que deberían ser binarias, tal es el caso de MSZoning, Neighborhood, RoofStyle, CentralAir, BsmFullBath, GarageType, GarageFinish, y PavedDrive.\n",
        "\n",
        "Por otro lado, las variables BsmtQual, HeatingQC y KitchenQual, parecen ser ordinales, pues se manejan con valores Ex, Gd, TA, Fa, Po, de Excellent, Good, Typical average, Fair, y Poor, es decir que y tienen un orden especifico, pues unos valores pesan más que otros. "
      ],
      "metadata": {
        "id": "FYpFQ3_x4Pdf"
      }
    },
    {
      "cell_type": "markdown",
      "source": [
        "####Diagrama de cajas y bigotes"
      ],
      "metadata": {
        "id": "G9ANUiZIugth"
      }
    },
    {
      "cell_type": "code",
      "source": [
        "#Primero comprobemos los tipos de cada columna \n",
        "print(dataset.dtypes)"
      ],
      "metadata": {
        "colab": {
          "base_uri": "https://localhost:8080/"
        },
        "id": "FyDs5G-bul6l",
        "outputId": "c03ff152-b37f-401a-8053-4eb797621f01"
      },
      "execution_count": null,
      "outputs": [
        {
          "output_type": "stream",
          "name": "stdout",
          "text": [
            "Id               int64\n",
            "MSSubClass       int64\n",
            "MSZoning        object\n",
            "Neighborhood    object\n",
            "OverallQual      int64\n",
            "RoofStyle       object\n",
            "BsmtQual        object\n",
            "HeatingQC       object\n",
            "CentralAir      object\n",
            "1stFlrSF         int64\n",
            "GrLivArea        int64\n",
            "BsmtFullBath     int64\n",
            "KitchenQual     object\n",
            "GarageType      object\n",
            "GarageFinish    object\n",
            "GarageCars       int64\n",
            "PavedDrive      object\n",
            "SalePrice        int64\n",
            "dtype: object\n"
          ]
        }
      ]
    },
    {
      "cell_type": "markdown",
      "source": [
        "Se imprimieron los tipos de los datos para verificar cuáles se podían graficar en un diagrama de bigotes, el cuál nos ayudará a detectar outliers. Este tipo de diagramas es útil en este caso ya que nos permité ver los valores que se alejan de la media y sobresalen de los mínimos y máximos."
      ],
      "metadata": {
        "id": "sFnky1dKuoP8"
      }
    },
    {
      "cell_type": "code",
      "source": [
        "\n",
        "# Se grafica con un boxplot cada uno de los atributos enteros\n",
        "fig, axs = plt.subplots(6, 3, constrained_layout=True, figsize=(20,20))\n",
        "fig.suptitle('Boxplot por variable', fontsize=16)\n",
        "\n",
        "d = 1\n",
        "for i in range(6):\n",
        "  for j in range(3):\n",
        "    if i == 3 and j == 2:\n",
        "      break\n",
        "    else:\n",
        "      if dataset[dataset.columns[d]].dtypes == \"int64\":\n",
        "        axs[i,j].set_title(dataset.columns[d])\n",
        "        axs[i,j].boxplot(dataset.iloc[:,d])\n",
        "      d += 1\n"
      ],
      "metadata": {
        "colab": {
          "base_uri": "https://localhost:8080/",
          "height": 1000
        },
        "id": "tvkKItQQDHXY",
        "outputId": "7e66ea07-a828-48e6-e689-d01566993857"
      },
      "execution_count": null,
      "outputs": [
        {
          "output_type": "display_data",
          "data": {
            "text/plain": [
              "<Figure size 1440x1440 with 18 Axes>"
            ],
            "image/png": "[encoded data removed]"
          },
          "metadata": {
            "needs_background": "light"
          }
        }
      ]
    },
    {
      "cell_type": "markdown",
      "source": [
        "Podemos notar que las variables presentan valores atípicos, con esto podemos pensar que hace falta hacer un tratamiento de esos. De momento esto nos sirve para observar de manera gráfica que hay valores que se alejan mucho de la media. Más adelante podemos revisar las filas que tienen outliers y hacer algún preprocesamiento de los mismos si fuera el caso, ya a veces tener outliers que no son tan irrelistas o que presentan algún tipo de patrón que se presenta cada cierto tiempo y en casos como ese tampoco es ideal quitarlos."
      ],
      "metadata": {
        "id": "d1MlHItEaGIZ"
      }
    },
    {
      "cell_type": "markdown",
      "source": [
        "####Valores faltantes\n",
        "Aparte de observar los datos y notar que hay valores faltantes, podemos imprimir cuantos valores hay para cada atributo, y como sabemos que tenemos 1460 filas o muestras, notar que uno de los atributos de menos de eso, indicaría que hay valores que más adelante tendremos que tratar, ya sea rellenarlos, ignorarlos o usar algún algoritmo más complejo. "
      ],
      "metadata": {
        "id": "VJ63ywadtQcE"
      }
    },
    {
      "cell_type": "code",
      "source": [
        "print(\"Cantidad de muestras \",len(dataset), \"\\n\")\n",
        "print(dataset.count())\n"
      ],
      "metadata": {
        "colab": {
          "base_uri": "https://localhost:8080/"
        },
        "id": "0WgUj7aFcxVs",
        "outputId": "138386a0-ca19-433e-b36d-82a994640fb3"
      },
      "execution_count": null,
      "outputs": [
        {
          "output_type": "stream",
          "name": "stdout",
          "text": [
            "Cantidad de muestras  1460 \n",
            "\n",
            "Id              1460\n",
            "MSSubClass      1460\n",
            "MSZoning        1460\n",
            "Neighborhood    1460\n",
            "OverallQual     1460\n",
            "RoofStyle       1460\n",
            "BsmtQual        1423\n",
            "HeatingQC       1460\n",
            "CentralAir      1460\n",
            "1stFlrSF        1460\n",
            "GrLivArea       1460\n",
            "BsmtFullBath    1460\n",
            "KitchenQual     1460\n",
            "GarageType      1379\n",
            "GarageFinish    1379\n",
            "GarageCars      1460\n",
            "PavedDrive      1460\n",
            "SalePrice       1460\n",
            "dtype: int64\n"
          ]
        }
      ]
    },
    {
      "cell_type": "markdown",
      "metadata": {
        "id": "9tNVtXGvAqxe"
      },
      "source": [
        "### 2 (5 puntos)\n",
        "- Se utilizará el modelo Train/Validation (70%)  y Test (30%). \n",
        "- Comente su decisión sobre los parámetros shuffle y random_state\n",
        "- Separe  los  conjuntos de datos (70-30) (X_trainVal, X_test, y_trainVal, y_test )\n",
        "- Muestre los primeros 5 registros de cada conjunto.\n"
      ]
    },
    {
      "cell_type": "markdown",
      "source": [
        "Primero se separan las columnas"
      ],
      "metadata": {
        "id": "z9zVPDjJ4GNc"
      }
    },
    {
      "cell_type": "code",
      "execution_count": 69,
      "metadata": {
        "id": "Leqk_YXcAqxe",
        "colab": {
          "base_uri": "https://localhost:8080/"
        },
        "outputId": "730da5f8-3926-42f0-a407-775462c9e01d"
      },
      "outputs": [
        {
          "output_type": "stream",
          "name": "stdout",
          "text": [
            "\n",
            "Muestra fila 1:     Id  MSSubClass MSZoning Neighborhood  OverallQual RoofStyle BsmtQual  \\\n",
            "0   1          60       RL      CollgCr            7     Gable       Gd   \n",
            "\n",
            "  HeatingQC CentralAir  1stFlrSF  GrLivArea  BsmtFullBath KitchenQual  \\\n",
            "0        Ex          Y       856       1710             1          Gd   \n",
            "\n",
            "  GarageType GarageFinish  GarageCars PavedDrive  \n",
            "0     Attchd          RFn           2          Y  \n",
            "\n",
            "Cantidad de muestras:  1460\n",
            "\n",
            "Cantidad de atributos (incluye y):  18\n"
          ]
        }
      ],
      "source": [
        "my_data = dataset\n",
        "X = my_data.iloc[:, :17]\n",
        "cantidad_muestras = len(my_data)\n",
        "y = my_data.iloc[:, 17]\n",
        "\n",
        "\n",
        "print(\"\\nMuestra fila 1: \",X[0:1])\n",
        "print(\"\\nCantidad de muestras: \", len(my_data))\n",
        "#print(my_data.info())\n",
        "print(\"\\nCantidad de atributos (incluye y): \", my_data.shape[1])\n",
        "\n"
      ]
    },
    {
      "cell_type": "code",
      "source": [
        "\n",
        "X_train, X_test, y_train, y_test = train_test_split(X, \n",
        "                                                    y, \n",
        "                                                    train_size=0.70,\n",
        "                                                    shuffle=True,     #Mezclar los datos y que se reparta aleatoriamente\n",
        "                                                    random_state=40)  #Definir una semilla para usar los mismos valores en todas las corridas\n",
        "\n",
        "print(\"\\nTamaño de X_train + X_test: \", len(X_train)+len(X_test))\n",
        "print(\"\\nTamaño del train: \", len(X_train))\n",
        "print(\"\\nTamaño del test: \", len(X_test))\n",
        "print(\"\\nPrimeros elementos del X_train:\")\n",
        "print( X_train[0:4])\n",
        "print(\"\\nPrimeros elementos del X_test:\")\n",
        "print( X_test[0:4])\n",
        "print(\"\\nPrimeros elementos del y_train:\")\n",
        "print( y_train[0:4])\n",
        "print(\"\\nPrimeros elementos del y_test:\")\n",
        "print( y_test[0:4])"
      ],
      "metadata": {
        "colab": {
          "base_uri": "https://localhost:8080/"
        },
        "id": "ubOzzjxC4OFZ",
        "outputId": "796d022c-b1b4-4372-feae-4ddb23028f67"
      },
      "execution_count": 70,
      "outputs": [
        {
          "output_type": "stream",
          "name": "stdout",
          "text": [
            "\n",
            "Tamaño de X_train + X_test:  1460\n",
            "\n",
            "Tamaño del train:  1021\n",
            "\n",
            "Tamaño del test:  439\n",
            "\n",
            "Primeros elementos del X_train:\n",
            "        Id  MSSubClass MSZoning Neighborhood  OverallQual RoofStyle BsmtQual  \\\n",
            "8        9          50       RM      OldTown            7     Gable       TA   \n",
            "309    310          20       RL      NridgHt            9     Gable       Ex   \n",
            "957    958          20       RL       Sawyer            5       Hip       TA   \n",
            "1022  1023          50       RM      OldTown            5     Gable       TA   \n",
            "\n",
            "     HeatingQC CentralAir  1stFlrSF  GrLivArea  BsmtFullBath KitchenQual  \\\n",
            "8           Gd          Y      1022       1774             0          TA   \n",
            "309         Ex          Y      1944       1944             1          Ex   \n",
            "957         TA          Y      1057       1057             0          TA   \n",
            "1022        Gd          Y       912       1248             0          TA   \n",
            "\n",
            "     GarageType GarageFinish  GarageCars PavedDrive  \n",
            "8        Detchd          Unf           2          Y  \n",
            "309      Attchd          Fin           3          Y  \n",
            "957      Detchd          Fin           2          Y  \n",
            "1022     Detchd          Unf           1          Y  \n",
            "\n",
            "Primeros elementos del X_test:\n",
            "        Id  MSSubClass MSZoning Neighborhood  OverallQual RoofStyle BsmtQual  \\\n",
            "1258  1259          80       RL      Gilbert            7     Gable       Gd   \n",
            "1041  1042          60       RL       NWAmes            6       Hip       TA   \n",
            "1181  1182         120       RM      Crawfor            8       Hip       Ex   \n",
            "1108  1109          60       RL      Gilbert            6     Gable       Gd   \n",
            "\n",
            "     HeatingQC CentralAir  1stFlrSF  GrLivArea  BsmtFullBath KitchenQual  \\\n",
            "1258        Ex          Y      1166       1166             1          Gd   \n",
            "1041        Gd          Y       800       1632             0          Gd   \n",
            "1181        Ex          Y      1652       1652             1          Gd   \n",
            "1108        Ex          Y       948       1690             0          TA   \n",
            "\n",
            "     GarageType GarageFinish  GarageCars PavedDrive  \n",
            "1258     Attchd          Fin           2          Y  \n",
            "1041     Attchd          Unf           2          Y  \n",
            "1181     Attchd          Fin           2          Y  \n",
            "1108     Attchd          RFn           2          Y  \n",
            "\n",
            "Primeros elementos del y_train:\n",
            "8       129900\n",
            "309     360000\n",
            "957     132000\n",
            "1022     87000\n",
            "Name: SalePrice, dtype: int64\n",
            "\n",
            "Primeros elementos del y_test:\n",
            "1258    190000\n",
            "1041    173000\n",
            "1181    392500\n",
            "1108    181000\n",
            "Name: SalePrice, dtype: int64\n"
          ]
        }
      ]
    },
    {
      "cell_type": "markdown",
      "source": [
        "####Comentario sobre shuffle y random_state\n",
        "Shuffle es un atributo que se debe poner en True si se quieren mezclar los datos, esto nos ayudará con la aletoriedad y en este caso se decidió hacer de esta forma porque es eso precesimente lo que andamos buscando al separar el train del test.\n",
        "\n",
        "Por otro lado el random_state, se debe poner en algún valor, un valor inicial que se define por medio de una semilla y es importante ponerlo si queremos que en todas las corridas se usen los mismos valores random, esto es muy útil cuando se trabaja con muestras y no poner un valor en el atributo haría que cada vez que se ejecute el programa, se use uno distinto y por lo tanto cada vez use valores diferentes. \n",
        "\n"
      ],
      "metadata": {
        "id": "JmV2FJXTnB_t"
      }
    },
    {
      "cell_type": "markdown",
      "metadata": {
        "id": "miPS0QToAqxi"
      },
      "source": [
        "### 3  (15 puntos)\n",
        "- Preprocese los atributos (Solo deje para más adelante escalar los datos).\n",
        "- Debe comentar en celdas del texto el por qué seleccionó las técnicas utilizadas."
      ]
    },
    {
      "cell_type": "markdown",
      "source": [
        "####Tratar outliers \n",
        "Anteriormente observamos las variables númericas por medio de diagramas de cajas, las cuales nos permitieron mostrar que ciertas variables presentan valores atípicos, estas eran MSSubClass, OverallQual, 1stFlrSF, GrLivArea, GarageCars y SalePrice. \n",
        "\n",
        "En el código que se muestra en el siguiente bloque, se imprimen los valores que se consideran outlier, sin embargo tanto en este caso como en el de las demás variables determinamos que no es necesario quitarlas porque no son valores irrealitas sino que simplemente poco comunes. Por ejemplo en el número de carros por garage habían simplemente 5 que tenían 4, en lugar de un valor entre 0 y 3, esto se detectó como outlier pero realmente no lo era. \n",
        "\n",
        "En muchos casos es importante discutir qué hacer con estos valores con el experto en el área, en este caso no lo tenemos, por lo que podríamos dejarlo simplemente a nuestro juicio, aunque en este caso también influye el hecho que los valores atípicos podrían ser reales. \n",
        "\n",
        "Para el resto de variables se probó de esta mismo forma en este código, pero para efectos prácticos se muestra nada más el ejemplo para la variable MSSubClass. "
      ],
      "metadata": {
        "id": "1Gi8ay3wc4_k"
      }
    },
    {
      "cell_type": "code",
      "execution_count": null,
      "metadata": {
        "id": "aNmBM81JAqxj",
        "colab": {
          "base_uri": "https://localhost:8080/",
          "height": 1000
        },
        "outputId": "9ed203a2-446f-4c5c-eda7-082c0093ddb7"
      },
      "outputs": [
        {
          "output_type": "stream",
          "name": "stdout",
          "text": [
            "---------------- Resumen Estadístico de la variable ----------------\n",
            "        MSSubClass\n",
            "count  1460.000000\n",
            "mean     56.897260\n",
            "std      42.300571\n",
            "min      20.000000\n",
            "25%      20.000000\n",
            "50%      50.000000\n",
            "75%      70.000000\n",
            "max     190.000000\n",
            "-----------------Ver outliers -----------------\n",
            "1       20\n",
            "6       20\n",
            "10      20\n",
            "12      20\n",
            "13      20\n",
            "        ..\n",
            "1453    20\n",
            "1454    20\n",
            "1456    20\n",
            "1458    20\n",
            "1459    20\n",
            "Name: MSSubClass, Length: 536, dtype: int64\n",
            "9       190\n",
            "48      190\n",
            "93      190\n",
            "125     190\n",
            "165     190\n",
            "246     190\n",
            "291     190\n",
            "300     190\n",
            "312     190\n",
            "335     190\n",
            "411     190\n",
            "488     190\n",
            "520     190\n",
            "535     190\n",
            "635     190\n",
            "637     190\n",
            "703     190\n",
            "705     190\n",
            "713     190\n",
            "861     190\n",
            "969     190\n",
            "985     190\n",
            "1030    190\n",
            "1062    190\n",
            "1144    190\n",
            "1186    190\n",
            "1190    190\n",
            "1266    190\n",
            "1393    190\n",
            "1416    190\n",
            "Name: MSSubClass, dtype: int64\n",
            "---------------- Resumen Estadístico de la variable después de quitar outliers----------------\n",
            "count    1460.000000\n",
            "mean       56.897260\n",
            "std        42.300571\n",
            "min        20.000000\n",
            "25%        20.000000\n",
            "50%        50.000000\n",
            "75%        70.000000\n",
            "max       190.000000\n",
            "Name: MSSubClass, dtype: float64\n"
          ]
        },
        {
          "output_type": "display_data",
          "data": {
            "text/plain": [
              "<Figure size 432x288 with 1 Axes>"
            ],
            "image/png": "[encoded data removed]"
          },
          "metadata": {
            "needs_background": "light"
          }
        }
      ],
      "source": [
        "data = pd.DataFrame(dataset.MSSubClass)\n",
        "data.boxplot()\n",
        "\n",
        "print(\"---------------- Resumen Estadístico de la variable ----------------\")\n",
        "print(data.describe())\n",
        "\n",
        "values = dataset.MSSubClass\n",
        "print(\"-----------------Ver outliers -----------------\")\n",
        "print(values[values.between(values.quantile(0), values.quantile(.003))] )\n",
        "print(values[values.between(values.quantile(.997), values.quantile(1))] )\n",
        "\n",
        "#Remover Outliers\n",
        "dataset = dataset.loc[values.between(values.quantile(0.001), values.quantile(.998)), :]\n",
        "print(\"---------------- Resumen Estadístico de la variable después de quitar outliers----------------\")\n",
        "print(dataset.MSSubClass.describe())"
      ]
    },
    {
      "cell_type": "markdown",
      "source": [
        "####Valores faltantes\n",
        "Como vimos en la primera parte, hay algunas variables que tienen valores faltantes, debemos hacer algo con esos campos y tenemos varias opciones como ignorar dichas tuplas, rellenar con constantes, usar media o moda, el valor más probable o quizá usar un algoritmo más complejo como una imputación multivariada. \n",
        "En este caso, las variables con valores faltantes son BsmtQual, que es una variable ordinal, GarageType, que es una variable binaria y GarageFinish que también es binaria.\n",
        "Quizá lo mejor en este caso es usar la moda, es decir el dato que más se repite, esto se debe simplemente al tipo de datos que son, ya que la media y mediana quizá no tengan mucho sentido en este contexto."
      ],
      "metadata": {
        "id": "5GRQ6URnc-W7"
      }
    },
    {
      "cell_type": "code",
      "source": [
        "print(X_train.count())\n",
        "print('--------------------')\n",
        "print(X_test.count())"
      ],
      "metadata": {
        "colab": {
          "base_uri": "https://localhost:8080/"
        },
        "id": "rao1-AXm3Ppg",
        "outputId": "0eb597c1-5cf8-4cfd-fbde-ce73f4a42ff8"
      },
      "execution_count": 52,
      "outputs": [
        {
          "output_type": "stream",
          "name": "stdout",
          "text": [
            "Id              1021\n",
            "MSSubClass      1021\n",
            "MSZoning        1021\n",
            "Neighborhood    1021\n",
            "OverallQual     1021\n",
            "RoofStyle       1021\n",
            "BsmtQual         994\n",
            "HeatingQC       1021\n",
            "CentralAir      1021\n",
            "1stFlrSF        1021\n",
            "GrLivArea       1021\n",
            "BsmtFullBath    1021\n",
            "KitchenQual     1021\n",
            "GarageType       960\n",
            "GarageFinish     960\n",
            "GarageCars      1021\n",
            "PavedDrive      1021\n",
            "dtype: int64\n",
            "--------------------\n",
            "Id              439\n",
            "MSSubClass      439\n",
            "MSZoning        439\n",
            "Neighborhood    439\n",
            "OverallQual     439\n",
            "RoofStyle       439\n",
            "BsmtQual        429\n",
            "HeatingQC       439\n",
            "CentralAir      439\n",
            "1stFlrSF        439\n",
            "GrLivArea       439\n",
            "BsmtFullBath    439\n",
            "KitchenQual     439\n",
            "GarageType      419\n",
            "GarageFinish    419\n",
            "GarageCars      439\n",
            "PavedDrive      439\n",
            "dtype: int64\n"
          ]
        }
      ]
    },
    {
      "cell_type": "code",
      "source": [
        "X_train.BsmtQual = X_train.BsmtQual.fillna(X_train['BsmtQual'].mode()[0])\n",
        "X_train.GarageType = X_train.GarageType.fillna(X_train['GarageType'].mode()[0])\n",
        "X_train.GarageFinish = X_train.GarageFinish.fillna(X_train['GarageFinish'].mode()[0])\n",
        "\n",
        "X_test.BsmtQual = X_test.BsmtQual.fillna(X_test['BsmtQual'].mode()[0])\n",
        "X_test.GarageType = X_test.GarageType.fillna(X_test['GarageType'].mode()[0])\n",
        "X_test.GarageFinish = X_test.GarageFinish.fillna(X_test['GarageFinish'].mode()[0])\n",
        "\n",
        "\n",
        "print(X_train.count())\n",
        "print('--------------------')\n",
        "print(X_test.count())\n"
      ],
      "metadata": {
        "colab": {
          "base_uri": "https://localhost:8080/"
        },
        "id": "ebCgj8jXhtQr",
        "outputId": "1663fca2-800f-4cb1-a0d3-8cf1dd8501d0"
      },
      "execution_count": 71,
      "outputs": [
        {
          "output_type": "stream",
          "name": "stdout",
          "text": [
            "Id              1021\n",
            "MSSubClass      1021\n",
            "MSZoning        1021\n",
            "Neighborhood    1021\n",
            "OverallQual     1021\n",
            "RoofStyle       1021\n",
            "BsmtQual        1021\n",
            "HeatingQC       1021\n",
            "CentralAir      1021\n",
            "1stFlrSF        1021\n",
            "GrLivArea       1021\n",
            "BsmtFullBath    1021\n",
            "KitchenQual     1021\n",
            "GarageType      1021\n",
            "GarageFinish    1021\n",
            "GarageCars      1021\n",
            "PavedDrive      1021\n",
            "dtype: int64\n",
            "--------------------\n",
            "Id              439\n",
            "MSSubClass      439\n",
            "MSZoning        439\n",
            "Neighborhood    439\n",
            "OverallQual     439\n",
            "RoofStyle       439\n",
            "BsmtQual        439\n",
            "HeatingQC       439\n",
            "CentralAir      439\n",
            "1stFlrSF        439\n",
            "GrLivArea       439\n",
            "BsmtFullBath    439\n",
            "KitchenQual     439\n",
            "GarageType      439\n",
            "GarageFinish    439\n",
            "GarageCars      439\n",
            "PavedDrive      439\n",
            "dtype: int64\n"
          ]
        }
      ]
    },
    {
      "cell_type": "markdown",
      "source": [
        "####Codificar atributos ordinales\n",
        "Como habíamos visto con el hisgrama, las variables BsmtQual, HeatingQC, y KitchenQual, son variables ordinales, ya que poseen unicamente 6 valores distintos y además tienen un orden específico que es Excellent, Good, Typical average, Fair, y Poor. Entonces lo que vamos a hacer es asignarle un valor numerico a cada valor ordinal para poder tratarlos adecuadamente. "
      ],
      "metadata": {
        "id": "Fy0F2M4jBpmr"
      }
    },
    {
      "cell_type": "code",
      "source": [
        "\n",
        "mapping = { \"Ex\" :5,\"Gd\" :4,\"TA\":3, \"Fa\" :2, \"Po\":1 }    \n",
        "X_test = X_test.replace(mapping)\n",
        "X_train = X_train.replace(mapping)\n",
        "print(X_train.head(5))\n",
        "print(\"------------------------------------------------------\")\n",
        "print(X_test.head(5))\n"
      ],
      "metadata": {
        "colab": {
          "base_uri": "https://localhost:8080/"
        },
        "id": "0xFbxA4LD3a-",
        "outputId": "052a202b-95e0-4e0e-c7e7-20eeaae3d744"
      },
      "execution_count": 72,
      "outputs": [
        {
          "output_type": "stream",
          "name": "stdout",
          "text": [
            "        Id  MSSubClass MSZoning Neighborhood  OverallQual RoofStyle  BsmtQual  \\\n",
            "8        9          50       RM      OldTown            7     Gable         3   \n",
            "309    310          20       RL      NridgHt            9     Gable         5   \n",
            "957    958          20       RL       Sawyer            5       Hip         3   \n",
            "1022  1023          50       RM      OldTown            5     Gable         3   \n",
            "78      79          90       RL       Sawyer            4       Hip         3   \n",
            "\n",
            "      HeatingQC CentralAir  1stFlrSF  GrLivArea  BsmtFullBath  KitchenQual  \\\n",
            "8             4          Y      1022       1774             0            3   \n",
            "309           5          Y      1944       1944             1            5   \n",
            "957           3          Y      1057       1057             0            3   \n",
            "1022          4          Y       912       1248             0            3   \n",
            "78            3          N      1768       1768             0            3   \n",
            "\n",
            "     GarageType GarageFinish  GarageCars PavedDrive  \n",
            "8        Detchd          Unf           2          Y  \n",
            "309      Attchd          Fin           3          Y  \n",
            "957      Detchd          Fin           2          Y  \n",
            "1022     Detchd          Unf           1          Y  \n",
            "78       Attchd          Unf           0          Y  \n",
            "------------------------------------------------------\n",
            "        Id  MSSubClass MSZoning Neighborhood  OverallQual RoofStyle  BsmtQual  \\\n",
            "1258  1259          80       RL      Gilbert            7     Gable         4   \n",
            "1041  1042          60       RL       NWAmes            6       Hip         3   \n",
            "1181  1182         120       RM      Crawfor            8       Hip         5   \n",
            "1108  1109          60       RL      Gilbert            6     Gable         4   \n",
            "554    555          60       RL      NridgHt            7     Gable         4   \n",
            "\n",
            "      HeatingQC CentralAir  1stFlrSF  GrLivArea  BsmtFullBath  KitchenQual  \\\n",
            "1258          5          Y      1166       1166             1            4   \n",
            "1041          4          Y       800       1632             0            4   \n",
            "1181          5          Y      1652       1652             1            4   \n",
            "1108          5          Y       948       1690             0            3   \n",
            "554           5          Y      1006       2046             1            4   \n",
            "\n",
            "     GarageType GarageFinish  GarageCars PavedDrive  \n",
            "1258     Attchd          Fin           2          Y  \n",
            "1041     Attchd          Unf           2          Y  \n",
            "1181     Attchd          Fin           2          Y  \n",
            "1108     Attchd          RFn           2          Y  \n",
            "554     BuiltIn          RFn           3          Y  \n"
          ]
        }
      ]
    },
    {
      "cell_type": "markdown",
      "source": [
        "####Codificar atributos binarios\n",
        "Como lo descubrimos en la primer parte, por medio de gráficas, específicamente histogramas, existen algunas variables categoricas que deberían codificarse a binario, en este caso porque no indican ninguna forma de orden significativa, como los atributos del punto anterior, y por lo tanto de esta forma indicamos que ninguno tiene más peso que otro o mayor probabilidad que el resto, de modo que las columnas se codifican en binario, marcando con un 1 la casilla del atributo correspondiente y el resto en 0. \n",
        "Las variables a codificar son MSZoning, Neighborhood, RoofStyle, CentralAir, BsmFullBath, GarageType, GarageFinish, y PavedDrive."
      ],
      "metadata": {
        "id": "_Rng5tIRGvs_"
      }
    },
    {
      "cell_type": "code",
      "source": [
        "pd.options.display.max_columns = None\n",
        "\n",
        "X_test = pd.get_dummies(X_test, columns=[\"MSZoning\"])\n",
        "X_train = pd.get_dummies(X_train, columns=[\"MSZoning\"])\n",
        "\n",
        "X_test = pd.get_dummies(X_test, columns=[\"Neighborhood\"])\n",
        "X_train = pd.get_dummies(X_train, columns=[\"Neighborhood\"])\n",
        "\n",
        "X_test = pd.get_dummies(X_test, columns=[\"RoofStyle\"])\n",
        "X_train = pd.get_dummies(X_train, columns=[\"RoofStyle\"])\n",
        "\n",
        "X_test = pd.get_dummies(X_test, columns=[\"CentralAir\"])\n",
        "X_train = pd.get_dummies(X_train, columns=[\"CentralAir\"])\n",
        "\n",
        "X_test = pd.get_dummies(X_test, columns=[\"BsmtFullBath\"])\n",
        "X_train = pd.get_dummies(X_train, columns=[\"BsmtFullBath\"])\n",
        "\n",
        "X_test = pd.get_dummies(X_test, columns=[\"GarageType\"])\n",
        "X_train = pd.get_dummies(X_train, columns=[\"GarageType\"])\n",
        "\n",
        "X_test = pd.get_dummies(X_test, columns=[\"GarageFinish\"])\n",
        "X_train = pd.get_dummies(X_train, columns=[\"GarageFinish\"])\n",
        "\n",
        "X_test = pd.get_dummies(X_test, columns=[\"PavedDrive\"])\n",
        "X_train = pd.get_dummies(X_train, columns=[\"PavedDrive\"])\n",
        "\n",
        "print(X_train.head(1))"
      ],
      "metadata": {
        "colab": {
          "base_uri": "https://localhost:8080/"
        },
        "id": "nTm1uZSo-omq",
        "outputId": "232b8c21-a3b3-4280-b3c6-4cc4af9cd790"
      },
      "execution_count": 73,
      "outputs": [
        {
          "output_type": "stream",
          "name": "stdout",
          "text": [
            "   Id  MSSubClass  OverallQual  BsmtQual  HeatingQC  1stFlrSF  GrLivArea  \\\n",
            "8   9          50            7         3          4      1022       1774   \n",
            "\n",
            "   KitchenQual  GarageCars  MSZoning_C (all)  MSZoning_FV  MSZoning_RH  \\\n",
            "8            3           2                 0            0            0   \n",
            "\n",
            "   MSZoning_RL  MSZoning_RM  Neighborhood_Blmngtn  Neighborhood_BrDale  \\\n",
            "8            0            1                     0                    0   \n",
            "\n",
            "   Neighborhood_BrkSide  Neighborhood_ClearCr  Neighborhood_CollgCr  \\\n",
            "8                     0                     0                     0   \n",
            "\n",
            "   Neighborhood_Crawfor  Neighborhood_Edwards  Neighborhood_Gilbert  \\\n",
            "8                     0                     0                     0   \n",
            "\n",
            "   Neighborhood_IDOTRR  Neighborhood_MeadowV  Neighborhood_Mitchel  \\\n",
            "8                    0                     0                     0   \n",
            "\n",
            "   Neighborhood_NAmes  Neighborhood_NPkVill  Neighborhood_NWAmes  \\\n",
            "8                   0                     0                    0   \n",
            "\n",
            "   Neighborhood_NoRidge  Neighborhood_NridgHt  Neighborhood_OldTown  \\\n",
            "8                     0                     0                     1   \n",
            "\n",
            "   Neighborhood_SWISU  Neighborhood_Sawyer  Neighborhood_SawyerW  \\\n",
            "8                   0                    0                     0   \n",
            "\n",
            "   Neighborhood_Somerst  Neighborhood_StoneBr  Neighborhood_Timber  \\\n",
            "8                     0                     0                    0   \n",
            "\n",
            "   Neighborhood_Veenker  RoofStyle_Flat  RoofStyle_Gable  RoofStyle_Gambrel  \\\n",
            "8                     0               0                1                  0   \n",
            "\n",
            "   RoofStyle_Hip  RoofStyle_Mansard  RoofStyle_Shed  CentralAir_N  \\\n",
            "8              0                  0               0             0   \n",
            "\n",
            "   CentralAir_Y  BsmtFullBath_0  BsmtFullBath_1  BsmtFullBath_2  \\\n",
            "8             1               1               0               0   \n",
            "\n",
            "   BsmtFullBath_3  GarageType_2Types  GarageType_Attchd  GarageType_Basment  \\\n",
            "8               0                  0                  0                   0   \n",
            "\n",
            "   GarageType_BuiltIn  GarageType_CarPort  GarageType_Detchd  \\\n",
            "8                   0                   0                  1   \n",
            "\n",
            "   GarageFinish_Fin  GarageFinish_RFn  GarageFinish_Unf  PavedDrive_N  \\\n",
            "8                 0                 0                 1             0   \n",
            "\n",
            "   PavedDrive_P  PavedDrive_Y  \n",
            "8             0             1  \n"
          ]
        }
      ]
    },
    {
      "cell_type": "code",
      "source": [
        "#COMPROBAR LA NUEVA CANTIDAD DE ATRIBUTOS\n",
        "print(\"\\nCantidad de atributos train (no incluye y): \", X_train.shape[1])\n",
        "print(\"\\nCantidad de atributos test (no incluye y): \", X_test.shape[1])"
      ],
      "metadata": {
        "colab": {
          "base_uri": "https://localhost:8080/"
        },
        "id": "PgZ7Y3MUHYT6",
        "outputId": "fbf7e286-d3ed-48b2-a6ca-eb6b14857e54"
      },
      "execution_count": 74,
      "outputs": [
        {
          "output_type": "stream",
          "name": "stdout",
          "text": [
            "\n",
            "Cantidad de atributos train (no incluye y):  62\n",
            "\n",
            "Cantidad de atributos test (no incluye y):  62\n"
          ]
        }
      ]
    },
    {
      "cell_type": "markdown",
      "metadata": {
        "id": "F2aijX35Aqxm"
      },
      "source": [
        "### 4 (10 puntos)\n",
        "- Realice selección de atributos.\n",
        "- Debe utilizar al menos una técnica para justificar su decisión (De entre los métodos: Filter, Wrapper, Embedded).\n",
        "- ¿Qué hará con el atributo denominado: \"Id\"?\n",
        "- Comente sus conclusiones.\n"
      ]
    },
    {
      "cell_type": "markdown",
      "source": [
        "####Lasso"
      ],
      "metadata": {
        "id": "PMh2l-3gwplL"
      }
    },
    {
      "cell_type": "markdown",
      "source": [
        "Para utilizar lasso para la selección de atributos, hay que indicar un hiperparametro, por lo em este caso se decidió utilizar el lagoritmo de  GridSearch o búsqueda en cuiadrícula en el cual los parámetros del estimador utilizados para aplicar estos métodos se optimizan mediante una búsqueda de cuadrícula con validación cruzada sobre una cuadrícula de parámetros, además se selección en dicho rango porque al hacerlo hasta 10, resultaba que el mejor valor para alfa, que era 9.9, no generaba una mayor reducción o mejores resultados luego para la predicción que haciendolo hasta 5 con el mejor valor para alfa que es 4.9, por lo que decidió dejar dicho rango. "
      ],
      "metadata": {
        "id": "S4NQxep09oDL"
      }
    },
    {
      "cell_type": "code",
      "source": [
        "from sklearn.pipeline import Pipeline\n",
        "from sklearn.model_selection import GridSearchCV\n",
        "from sklearn.preprocessing import StandardScaler\n",
        "\n",
        "pipeline = Pipeline ([ ('scaler', StandardScaler()), ('model', linear_model.Lasso()) ])\n",
        "#Usamos búsqueda de cuadrícula para encontrar el mejor alfa\n",
        "search = GridSearchCV(pipeline, {'model__alpha':np.arange(0.1,5,0.1)}, cv=5, scoring = 'neg_mean_squared_error', verbose = 3 )\n",
        "\n",
        "search.fit(X_train, y_train)   \n"
      ],
      "metadata": {
        "id": "A1wWhg_Nxz7F"
      },
      "execution_count": null,
      "outputs": []
    },
    {
      "cell_type": "code",
      "source": [
        "search.best_params_"
      ],
      "metadata": {
        "colab": {
          "base_uri": "https://localhost:8080/"
        },
        "id": "GSrzg2W960Es",
        "outputId": "55527d4e-ed1d-4df8-c1f1-5dbe9b0eef6c"
      },
      "execution_count": 76,
      "outputs": [
        {
          "output_type": "execute_result",
          "data": {
            "text/plain": [
              "{'model__alpha': 4.9}"
            ]
          },
          "metadata": {},
          "execution_count": 76
        }
      ]
    },
    {
      "cell_type": "code",
      "execution_count": 77,
      "metadata": {
        "id": "hI1ridvAAqxn",
        "colab": {
          "base_uri": "https://localhost:8080/"
        },
        "outputId": "1dec7443-edac-46ea-894f-e664edd6006f"
      },
      "outputs": [
        {
          "output_type": "stream",
          "name": "stdout",
          "text": [
            "Método de selección de atributos lasso\n",
            "Coeficientes:  [-4.66087061e+00 -1.79914223e+02  1.16451201e+04  1.11409117e+04\n",
            "  1.78333387e+03  1.67757526e+00  4.96582804e+01  1.22155581e+04\n",
            "  1.06772128e+04 -7.82929099e+04 -4.36649859e+04 -3.11105111e+04\n",
            " -3.55857260e+04 -5.05004683e+04 -1.23364374e+04  1.63064649e+03\n",
            " -1.55206077e+03  9.18270524e+03 -8.42071027e+03  1.03937721e+04\n",
            " -2.41264147e+04 -1.64011127e+04  0.00000000e+00 -1.19236657e+03\n",
            " -1.20621423e+04 -1.39132091e+04 -3.08614735e+03 -1.20794138e+04\n",
            "  6.81588314e+04  4.95313465e+04 -1.47094677e+04 -2.23277340e+04\n",
            " -1.26105400e+04 -1.52025177e+04  1.02932133e+04  6.68882612e+04\n",
            "  0.00000000e+00  3.45867280e+04 -1.93416686e+03 -1.31044217e+04\n",
            "  9.85640433e+03 -5.61227630e+03 -1.36075452e+04 -1.45204595e+04\n",
            " -7.12842145e+03 -4.62592630e+03 -1.27571373e+04 -1.26623102e+00\n",
            " -2.52926046e+03  6.14982322e+04 -1.86647007e+04  3.70037443e+03\n",
            "  5.56709674e+03 -1.84386874e-01 -2.12140518e+04 -8.11205998e+02\n",
            "  6.42884033e+03 -2.09506136e+03 -5.16262783e+02 -2.98188583e+03\n",
            "  2.67028901e+02 -7.44443037e-03]\n"
          ]
        },
        {
          "output_type": "stream",
          "name": "stderr",
          "text": [
            "/usr/local/lib/python3.7/dist-packages/sklearn/linear_model/_coordinate_descent.py:648: ConvergenceWarning: Objective did not converge. You might want to increase the number of iterations, check the scale of the features or consider increasing regularisation. Duality gap: 5.390e+11, tolerance: 4.047e+09\n",
            "  coef_, l1_reg, l2_reg, X, y, max_iter, tol, rng, random, positive\n"
          ]
        }
      ],
      "source": [
        "print(\"Método de selección de atributos lasso\")\n",
        "reg = linear_model.Lasso(alpha=4.9, fit_intercept=False)   \n",
        "reg.fit(X_train, y_train)                                                 \n",
        "#Solo se hace con el train, y se lo quito tanto al test como al train\n",
        "print( \"Coeficientes: \", reg.coef_ )"
      ]
    },
    {
      "cell_type": "code",
      "source": [
        "columns_names = X_train.columns.values\n",
        "for i in range(len(reg.coef_)):\n",
        "  if not reg.coef_[i]>1:\n",
        "    X_train = X_train.drop([columns_names[i]], axis=1)\n",
        "    X_test = X_test.drop([columns_names[i]], axis=1)\n",
        "    np.delete(columns_names, i)\n",
        "    print(\"Eliminated \", columns_names[i], reg.coef_[i])\n"
      ],
      "metadata": {
        "colab": {
          "base_uri": "https://localhost:8080/"
        },
        "id": "EPPut_4QOATV",
        "outputId": "669cdd8f-62a9-4c2e-b8f4-1551e80be22e"
      },
      "execution_count": 78,
      "outputs": [
        {
          "output_type": "stream",
          "name": "stdout",
          "text": [
            "Eliminated  Id -4.660870607672325\n",
            "Eliminated  MSSubClass -179.91422270967297\n",
            "Eliminated  MSZoning_C (all) -78292.90987211114\n",
            "Eliminated  MSZoning_FV -43664.98594968697\n",
            "Eliminated  MSZoning_RH -31110.51114804689\n",
            "Eliminated  MSZoning_RL -35585.72599343598\n",
            "Eliminated  MSZoning_RM -50500.46832685309\n",
            "Eliminated  Neighborhood_Blmngtn -12336.437412010235\n",
            "Eliminated  Neighborhood_BrkSide -1552.0607747796457\n",
            "Eliminated  Neighborhood_CollgCr -8420.710270860827\n",
            "Eliminated  Neighborhood_Edwards -24126.414740323133\n",
            "Eliminated  Neighborhood_Gilbert -16401.11272405095\n",
            "Eliminated  Neighborhood_IDOTRR 0.0\n",
            "Eliminated  Neighborhood_MeadowV -1192.3665697556746\n",
            "Eliminated  Neighborhood_Mitchel -12062.142300351989\n",
            "Eliminated  Neighborhood_NAmes -13913.209127905504\n",
            "Eliminated  Neighborhood_NPkVill -3086.147354352486\n",
            "Eliminated  Neighborhood_NWAmes -12079.413757744203\n",
            "Eliminated  Neighborhood_OldTown -14709.467740826338\n",
            "Eliminated  Neighborhood_SWISU -22327.73395562088\n",
            "Eliminated  Neighborhood_Sawyer -12610.539981923523\n",
            "Eliminated  Neighborhood_SawyerW -15202.517744201836\n",
            "Eliminated  Neighborhood_Timber 0.0\n",
            "Eliminated  RoofStyle_Flat -1934.1668634507166\n",
            "Eliminated  RoofStyle_Gable -13104.421723543506\n",
            "Eliminated  RoofStyle_Hip -5612.276296306977\n",
            "Eliminated  RoofStyle_Mansard -13607.545191216253\n",
            "Eliminated  RoofStyle_Shed -14520.459470790644\n",
            "Eliminated  CentralAir_N -7128.4214540630455\n",
            "Eliminated  CentralAir_Y -4625.926298040341\n",
            "Eliminated  BsmtFullBath_0 -12757.137266071832\n",
            "Eliminated  BsmtFullBath_1 -1.266231023757184\n",
            "Eliminated  BsmtFullBath_2 -2529.260456252029\n",
            "Eliminated  GarageType_2Types -18664.70074751523\n",
            "Eliminated  GarageType_BuiltIn -0.1843868743501086\n",
            "Eliminated  GarageType_CarPort -21214.05180603656\n",
            "Eliminated  GarageType_Detchd -811.2059975185363\n",
            "Eliminated  GarageFinish_RFn -2095.0613551189263\n",
            "Eliminated  GarageFinish_Unf -516.2627833323363\n",
            "Eliminated  PavedDrive_N -2981.8858306707175\n",
            "Eliminated  PavedDrive_Y -0.007444430371912354\n"
          ]
        }
      ]
    },
    {
      "cell_type": "code",
      "source": [
        "print(\"\\nCantidad de atributos (no incluye y): \", X_train.shape[1])\n",
        "new_columns_names = X_train.columns.values"
      ],
      "metadata": {
        "colab": {
          "base_uri": "https://localhost:8080/"
        },
        "id": "0X3oVqgXQOT4",
        "outputId": "a99b40fe-cb5b-4013-e777-9abea3bf1b88"
      },
      "execution_count": 81,
      "outputs": [
        {
          "output_type": "stream",
          "name": "stdout",
          "text": [
            "\n",
            "Cantidad de atributos (no incluye y):  21\n"
          ]
        }
      ]
    },
    {
      "cell_type": "markdown",
      "source": [
        "####Conclusiones de la selección de atributos y columna Id\n",
        "Primeramente con respecto a la columna Id, se decidió quitarla porque nuestros no son secuenciales como en las series de tiempo, no afectará y no ayudará de ninguna manera, pero de todos modos al hacer la selección de atributos esta variables es eliminada. \n",
        "Con respecto a usar dicha técnica para la selección de atributos, se puede decir que lasso es una buena opción en este caso porque sospechamos que algunos atributos son irrelevantes, al usar Lasso, estamos fomentando que la solución sea poco densa, es decir, favorecemos que algunos de los coeficientes acaben valiendo 0. Esto puede ser útil para descubrir cuáles de los atributos de entrada son relevantes y, en general, para obtener un modelo que generalice mejor. \n",
        "\n",
        "En este caso se eliminaron 41 atributos, que probablemente solo meterían ruido a nuestra predicción. Además un aspecto positivo de usar lasso también es que podemos probar varios valores para el hiperparámetro de alfa para ver cuál configuración nos generará mejores valores en las métricas, en lugar de solo dejar el alfa por defecto. \n"
      ],
      "metadata": {
        "id": "wCvaQ3xVd7P4"
      }
    },
    {
      "cell_type": "markdown",
      "metadata": {
        "id": "97T8JyJoAqxq"
      },
      "source": [
        "### 1.5  (5 puntos)\n",
        "- Escale los datos.\n",
        "- Comente qué técnica utilizó y por qué.\n",
        "- Guarde el archivo ya pre-procesado con el nombre: \"'HousePriceDatasetPROCESADO\"\n",
        "\n",
        "**Nota:** No olvide cómo manejará el \"bias\" (o agregar columna de unos, o si la implementación de los algoritmos que utilizará permiten indicarle que lo agregue).\n"
      ]
    },
    {
      "cell_type": "markdown",
      "source": [
        "####RobustScaler \n",
        "Decidimos usar este método para escalar los datos, ya que al usar el rango intercualitico, estarían menos distribuidos nuestros datos. Puede ser un punto a favor, ya que no se eliminaron los outliers, pues no eran excesivamente lejanos ni tampoco incoherentes como para quitarlos. \n",
        "En este caso el escalamiento robusto no es sensible a outliers por lo que hará un mejor escalamiento para el caso de nuestro conjunto de datos. \n",
        "\n",
        "####Bias\n",
        "Por otro lado, el bias no se manejará de momento, pues dicha columna puede ser agregada con el parametro fit_intercept en el modelo que se utilice para la predicción, por lo que agregará hasta el siguiente punto de la tarea programa, donde se aplican tres modelos. "
      ],
      "metadata": {
        "id": "NMsn4KNKpDso"
      }
    },
    {
      "cell_type": "code",
      "execution_count": 82,
      "metadata": {
        "id": "U7MXlIo7Aqxq",
        "colab": {
          "base_uri": "https://localhost:8080/"
        },
        "outputId": "d80c1e27-636b-4063-81d6-33e5883175d9"
      },
      "outputs": [
        {
          "output_type": "stream",
          "name": "stdout",
          "text": [
            "Primeros X_train:  [[ 0.5        -1.         -0.5        -0.13017751  0.47462687  0.\n",
            "   0.          0.          0.          0.          0.          0.\n",
            "   0.          0.          0.          0.          0.         -1.\n",
            "   0.          0.          0.        ]]\n",
            "Primeros X_test:  [[ 0.5         0.          0.          0.15384615 -0.43283582  1.\n",
            "   0.          0.          0.          0.          0.          0.\n",
            "   0.          0.          0.          0.          0.          0.\n",
            "   0.          1.          0.        ]]\n"
          ]
        },
        {
          "output_type": "stream",
          "name": "stderr",
          "text": [
            "/usr/local/lib/python3.7/dist-packages/sklearn/base.py:493: FutureWarning: The feature names should match those that were passed during fit. Starting version 1.2, an error will be raised.\n",
            "Feature names unseen at fit time:\n",
            "- Neighborhood_Blueste\n",
            "Feature names seen at fit time, yet now missing:\n",
            "- BsmtFullBath_3\n",
            "\n",
            "  warnings.warn(message, FutureWarning)\n"
          ]
        }
      ],
      "source": [
        "# Escalar datos\n",
        "transformer = RobustScaler().fit(X_train)\n",
        "X_train = transformer.transform( X_train)\n",
        "X_test = transformer.transform( X_test)\n",
        "print(\"Primeros X_train: \", X_train[0:1])\n",
        "print(\"Primeros X_test: \", X_test[0:1])"
      ]
    },
    {
      "cell_type": "code",
      "source": [
        "\n",
        "#JUNTAR XTRAIN,YTRAIN, XTEST,YTEST :)\n",
        "new_columns_names = np.append(new_columns_names,'SalePrice')\n",
        "print(new_columns_names)\n",
        "\n",
        "X_concat = np.concatenate((X_train,X_test), axis=0)\n",
        "\n",
        "Y_concat = np.concatenate((y_train,y_test), axis=0)\n",
        "#Se convierte a matriz y luego se hace columna\n",
        "Y_concat = np.asmatrix(Y_concat)\n",
        "Y_concat = np.transpose(Y_concat)\n",
        "#Se agrega la columna de Y \n",
        "data = np.concatenate((X_concat,Y_concat), axis=1)\n",
        "\n",
        "#Guardar el dataset en un csv\n",
        "X_df = pd.DataFrame(data = data, columns = new_columns_names)\n",
        "X_df.to_csv(\"HousePriceDatasetPROCESADO.csv\",index=False)\n"
      ],
      "metadata": {
        "colab": {
          "base_uri": "https://localhost:8080/"
        },
        "id": "P8Va3S3dgAYI",
        "outputId": "f8018b86-89ad-4a34-e2b5-872660c8f7b6"
      },
      "execution_count": 83,
      "outputs": [
        {
          "output_type": "stream",
          "name": "stdout",
          "text": [
            "['OverallQual' 'BsmtQual' 'HeatingQC' '1stFlrSF' 'GrLivArea' 'KitchenQual'\n",
            " 'GarageCars' 'Neighborhood_BrDale' 'Neighborhood_ClearCr'\n",
            " 'Neighborhood_Crawfor' 'Neighborhood_NoRidge' 'Neighborhood_NridgHt'\n",
            " 'Neighborhood_Somerst' 'Neighborhood_StoneBr' 'Neighborhood_Veenker'\n",
            " 'RoofStyle_Gambrel' 'BsmtFullBath_3' 'GarageType_Attchd'\n",
            " 'GarageType_Basment' 'GarageFinish_Fin' 'PavedDrive_P' 'SalePrice']\n"
          ]
        }
      ]
    },
    {
      "cell_type": "markdown",
      "metadata": {
        "id": "7luDf08KAqxt"
      },
      "source": [
        "### 1.6 (20 puntos)\n",
        "Presente e implemente un diseño experimental que incluya:\n",
        "- Tres algoritmos diferentes:\n",
        "    - Uno será la regresión lineal de mínimos cuadrados sin regularización (OLSR).\n",
        "    - Usted eligirá un método más, que no sea de los vistos en clase. Si tiene dudas de si puede o no usar algún método, puede consultar al profesor.\n",
        "    - Como el OLSR no tiene hiperparámetros, use todo el train/validation para entrenar. Para los otros dos métodos, debe usar ten-cross-validation para seleccionar al menos un hiperparámetro.\n",
        "    - Debe registrar las métricas RMSE y R2. Usted decide cuál de estas dos métricas usa para selecionar la mejor configuración (Justifique su selección).\n",
        "    \n",
        "**Nota:** Para cada el algoritmo adicional seleccionado (no el OLSR) explique los parámetros que recibe. \n",
        "    "
      ]
    },
    {
      "cell_type": "code",
      "source": [
        "matrizPredicciones = []\n",
        "diccMetricas = {}"
      ],
      "metadata": {
        "id": "q3lmPCH-AN_T"
      },
      "execution_count": 130,
      "outputs": []
    },
    {
      "cell_type": "code",
      "source": [
        "def RMSE (py_test, py_pred):\n",
        "  #If True returns MSE value, if False returns RMSE value.\n",
        "  return mean_squared_error(py_test, py_pred, squared=False)\n",
        "\n",
        "def R2(py_test, py_pred):\n",
        "  return r2_score(py_test, py_pred)"
      ],
      "metadata": {
        "id": "NTgr3yAEM1wY"
      },
      "execution_count": 138,
      "outputs": []
    },
    {
      "cell_type": "markdown",
      "source": [
        "####Regresion lineal de mínimos cuadrados sin regularización OLSR\n",
        "Para este modelo se agrega la columna del bias, como se mencionó en el punto anterior pues al momento de modelar sí no es importante. Además cabe mencionar que se puso el parametro mormalize porque para este modelo está obsoleta, y por defecto no normaliza y no lo necesitamos porque anteriormente se usó el escalamiento robusto. "
      ],
      "metadata": {
        "id": "bb_EXPaDhJ1o"
      }
    },
    {
      "cell_type": "code",
      "execution_count": 132,
      "metadata": {
        "id": "30z4eKbKAqxt",
        "colab": {
          "base_uri": "https://localhost:8080/"
        },
        "outputId": "ee675ef9-87af-4410-98c8-e79d86a9c356"
      },
      "outputs": [
        {
          "output_type": "stream",
          "name": "stdout",
          "text": [
            "Regresion lineal de mínimos cuadrados sin regularización OLSR\n",
            "RMSE 38064.51827539592\n",
            "R2 0.7213924615467392\n"
          ]
        }
      ],
      "source": [
        "print( \"Regresion lineal de mínimos cuadrados sin regularización OLSR\")\n",
        "\n",
        "regression = linear_model.LinearRegression( \n",
        "                                           fit_intercept=True,\n",
        "                                           copy_X=True, \n",
        "                                           n_jobs=None)\n",
        "regression.fit(X_train, y_train)\n",
        "y_pred = regression.predict(X_test)\n",
        "#Agregar al diccionario de metricas\n",
        "RMSE_1 = RMSE(y_test, y_pred)\n",
        "R2_1 = R2(y_test, y_pred)\n",
        "print('RMSE', RMSE_1)\n",
        "print('R2', R2_1)\n",
        "diccMetricas['OLRS'] = [RMSE_1,R2_1]\n",
        "#Se agrega a la matriz de predicciones\n",
        "matrizPredicciones.append(y_pred)"
      ]
    },
    {
      "cell_type": "code",
      "source": [
        "def getBestAlpha(resultados):\n",
        "    mejor = math.inf\n",
        "    elMejor = 0.0\n",
        "    for e in resultados:\n",
        "        if resultados[e] < mejor:\n",
        "            mejor = resultados[e]\n",
        "            elMejor = e\n",
        "    return mejor, elMejor"
      ],
      "metadata": {
        "id": "vikaI3MlDp-F"
      },
      "execution_count": 133,
      "outputs": []
    },
    {
      "cell_type": "markdown",
      "source": [
        "####Regresión Ridge con Ten-Cross-Validation"
      ],
      "metadata": {
        "id": "CEsa_-K_9Z4F"
      }
    },
    {
      "cell_type": "markdown",
      "source": [
        "Como realmente no se especificó hacer más que un nuevo algoritmo, para el segundo se eleigió Ridge, en este caso el normalize está en desuso y el default es no hacerlo, pero ya hemos escalado los datos. "
      ],
      "metadata": {
        "id": "gy-92sLSImnz"
      }
    },
    {
      "cell_type": "code",
      "source": [
        "\n",
        "print(\"\\nTamaño del train-validation: \", len(X_train))\n",
        "print(\"\\nTamaño del test: \", len(X_test))\n",
        "\n",
        "print(\"\\nCantidad de muestras: \", len(X_train)+len(X_test))\n",
        "\n",
        "#Hiperparametros \n",
        "alfas = [10**i for i in (-4,-3,-2,-1,0,1,2,3,4) ]\n",
        "resultados_alfa = {}\n",
        "numFolds = 10 #Para el ten cross validatiom \n",
        "print('-----------------------------------------------------------------------')\n",
        "\n",
        "for alfa in alfas:\n",
        "    kf = KFold(n_splits=numFolds,\n",
        "               shuffle=True,\n",
        "               random_state=10)\n",
        "    resultados = []\n",
        "    kf.get_n_splits(X_train)\n",
        "\n",
        "\n",
        "    keysY = y_train.keys()\n",
        "\n",
        "    for train_index, val_index in kf.split(X_train): \n",
        "      \n",
        "        X_train_tmp = X_train[train_index]\n",
        "        X_val_tpm = X_train[val_index]\n",
        "        y_train_tmp = y_train[keysY[train_index]]\n",
        "        y_val_tmp = y_train[keysY[val_index]]\n",
        "\n",
        "        clf = linear_model.Ridge(alpha=alfa, fit_intercept=True)\n",
        "        clf.fit(X_train, y_train)\n",
        "        y_pred = clf.predict(X_val_tpm)\n",
        "        metrica = mean_squared_error(y_val_tmp, y_pred, squared=False)\n",
        "        # If True returns MSE value, if False returns RMSE value.\n",
        "        resultados.append(metrica)\n",
        "\n",
        "    promedio = sum(resultados) / len(resultados) \n",
        "    print(\"\\nMétricas obtenidas en cross-validation para alfa de: \", alfa, \" - \", resultados, \n",
        "          \"     con un promedio de: \", promedio)\n",
        "    resultados_alfa[alfa] = promedio\n",
        "\n",
        "print('-----------------------------------------------------------------------')\n",
        "print(\"\\nResultados del Train-Validation: \", resultados_alfa)\n",
        "mejor_metrica, mejor_alfa = getBestAlpha(resultados_alfa)\n",
        "print('-----------------------------------------------------------------------')\n",
        "print(\"\\nMejor valor de métrica en Train-Validation: \", mejor_metrica,\", Alfa: \", mejor_alfa,)\n",
        "\n",
        "#Entrenar y predecir con el mejor alfa\n",
        "clf = linear_model.Ridge(alpha=mejor_alfa, fit_intercept=True)\n",
        "clf.fit(X_train, y_train)\n",
        "y_pred = clf.predict(X_test)\n",
        "#Se agrega a la matriz de predicciones\n",
        "matrizPredicciones.append(y_pred)\n",
        "#Mostrar R2 y RMSE y Agregar al diccionario de metricas\n",
        "RMSE_2 = RMSE(y_test, y_pred)\n",
        "R2_2 = R2(y_test, y_pred)\n",
        "print('RMSE', RMSE_2)\n",
        "print('R2', R2_2)\n",
        "diccMetricas['Ridge'] = [RMSE_2,R2_2]\n"
      ],
      "metadata": {
        "id": "xxnu1qmwgryM",
        "colab": {
          "base_uri": "https://localhost:8080/"
        },
        "outputId": "39c4b8cd-201d-49ea-f932-d9e1a858d5db"
      },
      "execution_count": 134,
      "outputs": [
        {
          "output_type": "stream",
          "name": "stdout",
          "text": [
            "\n",
            "Tamaño del train-validation:  1021\n",
            "\n",
            "Tamaño del test:  439\n",
            "\n",
            "Cantidad de muestras:  1460\n",
            "-----------------------------------------------------------------------\n",
            "\n",
            "Métricas obtenidas en cross-validation para alfa de:  0.0001  -  [29541.521226938792, 39736.589111238325, 38619.12676513047, 29433.920137492918, 36546.976765674524, 24698.627544263934, 27173.659226577784, 45713.94566533715, 27662.553955111573, 39858.65560311048]      con un promedio de:  33898.5576000876\n",
            "\n",
            "Métricas obtenidas en cross-validation para alfa de:  0.001  -  [29541.464445033445, 39736.753675935855, 38619.124048806436, 29433.594804568722, 36547.06879621381, 24698.653727814086, 27173.279019728652, 45714.28425979147, 27662.444303365148, 39858.62388413765]      con un promedio de:  33898.529096539525\n",
            "\n",
            "Métricas obtenidas en cross-validation para alfa de:  0.01  -  [29540.896559756016, 39738.40256416274, 38619.10142484935, 29430.34629284298, 36547.99035205785, 24698.918815241464, 27169.480454112003, 45717.69695499574, 27661.350193461585, 39858.31126259439]      con un promedio de:  33898.24948740741\n",
            "\n",
            "Métricas obtenidas en cross-validation para alfa de:  0.1  -  [29535.22589995783, 39755.183093763284, 38619.30133273721, 29398.331753544146, 36557.32951503629, 24701.867082479075, 27131.85229352283, 45753.98522784783, 27650.662465769583, 39855.61562451867]      con un promedio de:  33895.93542891768\n",
            "\n",
            "Métricas obtenidas en cross-validation para alfa de:  1  -  [29485.82254475676, 39935.69867120332, 38648.72233520367, 29118.189887412354, 36661.06901254604, 24747.096460605793, 26792.557905687325, 46150.633264010605, 27572.59094904787, 39857.54723860933]      con un promedio de:  33896.99282690831\n",
            "\n",
            "Métricas obtenidas en cross-validation para alfa de:  10  -  [29576.161348222962, 41455.60134330898, 39426.9115144931, 28129.252766321286, 37793.368014719665, 25323.700791972664, 25337.274824160377, 48683.974260661824, 27968.006348619798, 40533.27015536311]      con un promedio de:  34422.75213678438\n",
            "\n",
            "Métricas obtenidas en cross-validation para alfa de:  100  -  [31396.10592131042, 45839.383266215984, 42843.83611364685, 28868.314751758, 41377.338589913685, 27241.120219457764, 25321.177386960557, 53029.27251261603, 30662.912113784885, 42568.64153168629]      con un promedio de:  36914.81024073505\n",
            "\n",
            "Métricas obtenidas en cross-validation para alfa de:  1000  -  [37616.35666691296, 59257.73733960483, 55657.2108945828, 33775.987477856994, 53117.67565437123, 36146.428087851855, 32731.059697591507, 55824.11172169959, 39066.87696614599, 44125.39201420479]      con un promedio de:  44731.88365208226\n",
            "\n",
            "Métricas obtenidas en cross-validation para alfa de:  10000  -  [59851.28739092299, 91193.19294247199, 85681.86724517388, 57560.88066176666, 80776.41572546105, 64095.75942205129, 58199.30551913473, 77038.79154430388, 67839.17058425953, 65783.91546935719]      con un promedio de:  70802.05865049033\n",
            "-----------------------------------------------------------------------\n",
            "\n",
            "Resultados del Train-Validation:  {0.0001: 33898.5576000876, 0.001: 33898.529096539525, 0.01: 33898.24948740741, 0.1: 33895.93542891768, 1: 33896.99282690831, 10: 34422.75213678438, 100: 36914.81024073505, 1000: 44731.88365208226, 10000: 70802.05865049033}\n",
            "-----------------------------------------------------------------------\n",
            "\n",
            "Mejor valor de métrica en Train-Validation:  33895.93542891768 , Alfa:  0.1\n",
            "RMSE 37812.432402356535\n",
            "R2 0.7250704517230713\n"
          ]
        }
      ]
    },
    {
      "cell_type": "markdown",
      "source": [
        "#### Lasso LARS con Ten-Cross-Validation\n",
        "El tercer algororitmo se realizó con un modelo diferente a los vistos en clase, en este caso el Lasso LARS, El algoritmo Least angle regression (LAR) está fuertemente conectado con el Lasso, y de\n",
        "hecho proporciona un procedimiento muy eficiente para computar el Lasso. \n",
        "Es similar a la regresión hacia adelante, en donde el primer paso es identificar la variable más correlacionada, es decir, dado un conjunto de vectores se selecciona el vector que tenga la correlación absoluta más grande con la respuesta. En vez de adaptarse a esta variable, incrementa continuamente el valor del vector estimado hasta el punto donde la dirección del vector tenga la misma correlación con el residuo actual, este nuevo coeficiente entra al conjunto activo y el proceso continúa. \n",
        "\n",
        "En este caso el parámetro que recibe es alpha que es la constante que multiplica el término de penalización."
      ],
      "metadata": {
        "id": "mjicvs-4OB93"
      }
    },
    {
      "cell_type": "code",
      "source": [
        "\n",
        "print(\"\\nTamaño del train-validation: \", len(X_train))\n",
        "print(\"\\nTamaño del test: \", len(X_test))\n",
        "\n",
        "print(\"\\nCantidad de muestras: \", len(X_train)+len(X_test))\n",
        "\n",
        "#Hiperparametros \n",
        "alfas = [10**i for i in (-4,-3,-2,-1,0,1,2,3,4) ]\n",
        "resultados_alfa = {}\n",
        "numFolds = 10 #Para el ten cross validatiom \n",
        "print('-----------------------------------------------------------------------')\n",
        "\n",
        "for alfa in alfas:\n",
        "    kf = KFold(n_splits=numFolds,\n",
        "               shuffle=True,\n",
        "               random_state=10)\n",
        "    resultados = []\n",
        "    kf.get_n_splits(X_train)\n",
        "\n",
        "\n",
        "    keysY = y_train.keys()\n",
        "\n",
        "    for train_index, val_index in kf.split(X_train): \n",
        "      \n",
        "        X_train_tmp = X_train[train_index]\n",
        "        X_val_tpm = X_train[val_index]\n",
        "        y_train_tmp = y_train[keysY[train_index]]\n",
        "        y_val_tmp = y_train[keysY[val_index]]\n",
        "\n",
        "        clf = linear_model.LassoLars(alpha=alfa, fit_intercept=True, normalize=False)\n",
        "        clf.fit(X_train, y_train)\n",
        "        y_pred = clf.predict(X_val_tpm)\n",
        "        metrica = mean_squared_error(y_val_tmp, y_pred, squared=False)\n",
        "        # If True returns MSE value, if False returns RMSE value.\n",
        "        resultados.append(metrica)\n",
        "\n",
        "    promedio = sum(resultados) / len(resultados) \n",
        "    print(\"\\nMétricas obtenidas en cross-validation para alfa de: \", alfa, \" - \", resultados, \n",
        "          \"     con un promedio de: \", promedio)\n",
        "    resultados_alfa[alfa] = promedio\n",
        "\n",
        "print('-----------------------------------------------------------------------')\n",
        "print(\"\\nResultados del Train-Validation: \", resultados_alfa)\n",
        "mejor_metrica, mejor_alfa = getBestAlpha(resultados_alfa)\n",
        "print('-----------------------------------------------------------------------')\n",
        "print(\"\\nMejor valor de métrica en Train-Validation: \", mejor_metrica,\", Alfa: \", mejor_alfa,)\n",
        "\n",
        "#Entrenar y predecir con el mejor alfa\n",
        "clf = linear_model.LassoLars(alpha=alfa, fit_intercept=True, normalize=False)\n",
        "clf.fit(X_train, y_train)\n",
        "y_pred = clf.predict(X_test)\n",
        "#Se agrega a la matriz de predicciones\n",
        "matrizPredicciones.append(y_pred)\n",
        "#Mostrar R2 y RMSE y Agregar al diccionario de metricas\n",
        "RMSE_3 = RMSE(y_test, y_pred)\n",
        "R2_3 = R2(y_test, y_pred)\n",
        "print('RMSE', RMSE_3)\n",
        "print('R2', R2_3)\n",
        "diccMetricas['Bayessian_Ridge'] = [RMSE_3,R2_3]"
      ],
      "metadata": {
        "id": "JHDySxAhN_W9",
        "colab": {
          "base_uri": "https://localhost:8080/"
        },
        "outputId": "27b89b85-b3a3-4b6f-bf0a-0c5f550d950c"
      },
      "execution_count": 135,
      "outputs": [
        {
          "output_type": "stream",
          "name": "stdout",
          "text": [
            "\n",
            "Tamaño del train-validation:  1021\n",
            "\n",
            "Tamaño del test:  439\n",
            "\n",
            "Cantidad de muestras:  1460\n",
            "-----------------------------------------------------------------------\n",
            "\n",
            "Métricas obtenidas en cross-validation para alfa de:  0.0001  -  [29541.527445583193, 39736.571091820624, 38619.12706583716, 29433.95583420773, 36546.96668893047, 24698.6249175582, 27173.700661365106, 45713.908508890396, 27662.565896474716, 39858.65920132439]      con un promedio de:  33898.5607311992\n",
            "\n",
            "Métricas obtenidas en cross-validation para alfa de:  0.001  -  [29541.526632324723, 39736.57344867057, 38619.127009729724, 29433.951722943937, 36546.96801614208, 24698.627427611238, 27173.693332318733, 45713.912419204906, 27662.56369283991, 39858.65981985299]      con un promedio de:  33898.560352163884\n",
            "\n",
            "Métricas obtenidas en cross-validation para alfa de:  0.01  -  [29541.518500870665, 39736.59701843548, 38619.12645003834, 29433.910611328254, 36546.9812895057, 24698.65252929342, 27173.62004322947, 45713.951533232306, 27662.541658005637, 39858.66600606671]      con un promedio de:  33898.556564000595\n",
            "\n",
            "Métricas obtenidas en cross-validation para alfa de:  0.1  -  [29541.437299395016, 39736.83284262461, 38619.12099141879, 29433.499597400543, 36547.11414790693, 24698.903661292712, 27172.887289787723, 45714.343761727105, 27662.321461040086, 39858.72796098428]      con un promedio de:  33898.51890135778\n",
            "\n",
            "Métricas obtenidas en cross-validation para alfa de:  1  -  [29540.63659147446, 39739.20373768202, 38619.08023466852, 29429.39968261843, 36548.45520790904, 24701.426497728935, 27165.5735045677, 45718.37485826455, 27660.134630441527, 39859.35678803319]      con un promedio de:  33898.164173338846\n",
            "\n",
            "Métricas obtenidas en cross-validation para alfa de:  10  -  [29533.760514503658, 39764.177147343114, 38620.055603150846, 29389.424549777774, 36563.11287772609, 24727.805175429934, 27093.814657023908, 45769.55505281525, 27639.781518268548, 39866.57267261818]      con un promedio de:  33896.80597686574\n",
            "\n",
            "Métricas obtenidas en cross-validation para alfa de:  100  -  [29584.05387574558, 40126.86035326652, 38747.16665670771, 29093.782181629587, 36822.38439819655, 25002.537506267487, 26487.00333558989, 46627.10101034307, 27576.3999952671, 39976.06524996086]      con un promedio de:  34004.335456297435\n",
            "\n",
            "Métricas obtenidas en cross-validation para alfa de:  1000  -  [31313.039292864527, 43391.02544884927, 41524.33831672921, 28715.389840507858, 41382.561393926946, 27160.14960145196, 24552.411509293142, 53785.3266674655, 31544.080620269007, 42372.937380925636]      con un promedio de:  36574.126007228304\n",
            "\n",
            "Métricas obtenidas en cross-validation para alfa de:  10000  -  [35724.698124484894, 53873.14592844241, 52210.572595562415, 32293.579109083632, 49805.18110241258, 34299.41924456094, 28390.31457166321, 55947.24340723634, 35968.477508901764, 43899.26971483976]      con un promedio de:  42241.190130718795\n",
            "-----------------------------------------------------------------------\n",
            "\n",
            "Resultados del Train-Validation:  {0.0001: 33898.5607311992, 0.001: 33898.560352163884, 0.01: 33898.556564000595, 0.1: 33898.51890135778, 1: 33898.164173338846, 10: 33896.80597686574, 100: 34004.335456297435, 1000: 36574.126007228304, 10000: 42241.190130718795}\n",
            "-----------------------------------------------------------------------\n",
            "\n",
            "Mejor valor de métrica en Train-Validation:  33896.80597686574 , Alfa:  10\n",
            "RMSE 34250.82341179427\n",
            "R2 0.774423309536195\n"
          ]
        }
      ]
    },
    {
      "cell_type": "code",
      "source": [
        "diccMetricas"
      ],
      "metadata": {
        "colab": {
          "base_uri": "https://localhost:8080/"
        },
        "id": "qRrLTcRNKAfp",
        "outputId": "025df995-2d88-4ecd-f937-d1e7b01029ad"
      },
      "execution_count": 136,
      "outputs": [
        {
          "output_type": "execute_result",
          "data": {
            "text/plain": [
              "{'Bayessian_Ridge': [34250.82341179427, 0.774423309536195],\n",
              " 'OLRS': [38064.51827539592, 0.7213924615467392],\n",
              " 'Ridge': [37812.432402356535, 0.7250704517230713]}"
            ]
          },
          "metadata": {},
          "execution_count": 136
        }
      ]
    },
    {
      "cell_type": "markdown",
      "metadata": {
        "id": "hRSit4mpAqxv"
      },
      "source": [
        "\n",
        "\n",
        "### 1.7 (15 puntos)\n",
        "\n",
        "- Por medio de una tabla u otro método idóneo que Usted determine, resuma todos los resultados obtenidos (o la mayoría).\n",
        "- Grafique comparativamente los valores del real versus el predicho (test), de cada uno de los métodos utilizados.  \n",
        "- Qué conclusiones finales saca sobre los métodos usados como predictores."
      ]
    },
    {
      "cell_type": "markdown",
      "source": [
        "####Resumen de métricas"
      ],
      "metadata": {
        "id": "9ylkP51KWzTD"
      }
    },
    {
      "cell_type": "markdown",
      "source": [
        "RMSE es una métrica que nos dice la raíz cuadrada de la diferencia cuadrada promedio entre los valores predichos y los valores reales en un conjunto de datos. Cuanto menor sea el RMSE, mejor se ajusta un modelo a un conjunto de datos.\n",
        "\n",
        "R2 por su lado nos indica qué tanta variabilidad tienen los datos, por lo que si el resultado se acerca a 0 es bajo y es un mal resultado, por otro lado un valor hacia el 1 indica que el modelo se ajusta más a la realidad.\n",
        "\n",
        "A continuación se muestran los valores tanto de R2 como de RMSE para cada una de los modelos anteriores."
      ],
      "metadata": {
        "id": "BhLfnwEvVISA"
      }
    },
    {
      "cell_type": "code",
      "source": [
        "for key in diccMetricas:\n",
        "  print(key)\n",
        "  print('RMSE: ', diccMetricas[key][0])\n",
        "  print('R2  : ', diccMetricas[key][1])\n",
        "  print('\\n')"
      ],
      "metadata": {
        "colab": {
          "base_uri": "https://localhost:8080/"
        },
        "id": "x-77DjvRV942",
        "outputId": "461d0981-2643-4181-adf1-9f559f4f1de7"
      },
      "execution_count": 137,
      "outputs": [
        {
          "output_type": "stream",
          "name": "stdout",
          "text": [
            "OLRS\n",
            "RMSE:  38064.51827539592\n",
            "R2  :  0.7213924615467392\n",
            "\n",
            "\n",
            "Ridge\n",
            "RMSE:  37812.432402356535\n",
            "R2  :  0.7250704517230713\n",
            "\n",
            "\n",
            "Bayessian_Ridge\n",
            "RMSE:  34250.82341179427\n",
            "R2  :  0.774423309536195\n",
            "\n",
            "\n"
          ]
        }
      ]
    },
    {
      "cell_type": "markdown",
      "source": [
        "####Gráficas del real vs predicho"
      ],
      "metadata": {
        "id": "A0GPGI7VWrWM"
      }
    },
    {
      "cell_type": "code",
      "execution_count": 92,
      "metadata": {
        "id": "0bn7ujBQAqxw",
        "colab": {
          "base_uri": "https://localhost:8080/",
          "height": 1000
        },
        "outputId": "66d4666f-4c9d-4d46-9870-8de32e664b1e"
      },
      "outputs": [
        {
          "output_type": "display_data",
          "data": {
            "text/plain": [
              "<Figure size 720x720 with 1 Axes>"
            ],
            "image/png": "[encoded data removed]"
          },
          "metadata": {
            "needs_background": "light"
          }
        },
        {
          "output_type": "display_data",
          "data": {
            "text/plain": [
              "<Figure size 720x720 with 1 Axes>"
            ],
            "image/png": "[encoded data removed]"
          },
          "metadata": {
            "needs_background": "light"
          }
        },
        {
          "output_type": "display_data",
          "data": {
            "text/plain": [
              "<Figure size 720x720 with 1 Axes>"
            ],
            "image/png": "[encoded data removed]"
          },
          "metadata": {
            "needs_background": "light"
          }
        }
      ],
      "source": [
        "for i in range(0, 3):\n",
        "    plt.figure(figsize=(10,10))\n",
        "    plt.scatter(y_test, matrizPredicciones[i], c='crimson')\n",
        "    plt.yscale('log')\n",
        "    plt.xscale('log')\n",
        "\n",
        "    p1 = max(max(matrizPredicciones[i]), max(y_test.values))\n",
        "    p2 = min(min(matrizPredicciones[i]), min(y_test.values))\n",
        "    plt.plot([p1, p2], [p1, p2], 'b-')\n",
        "    plt.xlabel('True Values', fontsize=15)\n",
        "    plt.ylabel('Predictions', fontsize=15)\n",
        "    plt.axis('equal')\n",
        "    plt.show()"
      ]
    },
    {
      "cell_type": "markdown",
      "source": [
        "####Conclusiones"
      ],
      "metadata": {
        "id": "z1WUD8kjXAxJ"
      }
    },
    {
      "cell_type": "markdown",
      "source": [
        "Los valores más bajos de RMSE indican un mejor ajuste, ya que RMSE es una buena medida de la precisión con que el modelo predice la respuesta, y es el criterio más importante para ajustar si el propósito principal del modelo es este. \n",
        "Indica el ajuste absoluto del modelo a los datos, cuán cerca están los puntos de datos observados de los valores predichos del modelo, pero no tenemos otro valor con el cuál compararlo, para poder afirmar si los valores de los tres modelos para la métrica del RMSE es buena o no. \n",
        "\n",
        "Sin embargo, tanto el OLRS, Ridge y Bayessian Ridge dan valores similares, siendo el Bayessian ridge el que obtiene un menor valor y por lo tanto se puede considerar el mejor.\n",
        "\n",
        "Por otro lado R2 tiene la propiedad útil de que su escala es intuitiva, va de 0 a 1, con 0 indicando que el modelo propuesto no mejora la predicción sobre el modelo medio y 1 indica una predicción perfecta.\n",
        "\n",
        "De manera similar sucede con los resultados de R2 para los tres modelo, pues dan valores parecidos, siendo de nuevo Bayessian Ridge el que mejor valore muestra para esta métrica. \n",
        "\n",
        "Es interesante porque se podría pensar que quizá el cross validation podría influir en un mejor resultado, pero OLRS y Ridge dan muy similar, mientras que Bayessian Ridge tiene la ventaja, quizá esto se pueda deber a que la regresión bayesiana permite que un mecanismo natural sobreviva a datos insuficientes o datos mal distribuidos mediante la formulación de una regresión lineal utilizando distribuidores de probabilidad en lugar de estimaciones puntuales.\n",
        "\n",
        "Otro aspecto importante es que entre menos y menores atributos más mejoran estas métricas por lo que de suma importancia hacer bien ese paso. "
      ],
      "metadata": {
        "id": "SYWnvn_mXE7M"
      }
    },
    {
      "cell_type": "markdown",
      "metadata": {
        "id": "isDf_v8Fy3IP"
      },
      "source": [
        "___\n",
        "\n",
        "# Parte 2  -  Temas por grupo (20 puntos)\n",
        "___"
      ]
    },
    {
      "cell_type": "markdown",
      "metadata": {
        "id": "EKdOd-ZUy3IP"
      },
      "source": [
        "Considere lo siguiente:\n",
        "1. Revise en el archivo PDF: \"Temas por grupo\", qué cuadernos jupyter le corresponden a su grupo.\n",
        "1. Estudie los cuadernos asignados.\n",
        "1. Prepare un único cuaderno de jupyter (comentando con celdas de texto en español), en que resume y explica las técnicas asignadas.  Debe buscar uno o más datasets diferentes a los que se usan en los cuadernos de jupyter asignados. Deberá adjuntar a su solución el cuaderno jupyter generado y el o los datasets que Usted propone usar en sus cuadernos.\n",
        "1. Prepare un video para una posible presentación de sus temas en clase, no debe durar más 15 minutos en la presentación de los temas asignados (Considere que el material preparado será compartido con sus compañer(a/o)s del curso y por tanto se espera que se esmere en su elaboración y clara explicación -- por favor -- )."
      ]
    }
  ],
  "metadata": {
    "colab": {
      "collapsed_sections": [],
      "name": "2022-1-Trabajo Practico_02.ipynb",
      "provenance": [],
      "toc_visible": true,
      "include_colab_link": true
    },
    "kernelspec": {
      "display_name": "Python 3 (ipykernel)",
      "language": "python",
      "name": "python3"
    },
    "language_info": {
      "codemirror_mode": {
        "name": "ipython",
        "version": 3
      },
      "file_extension": ".py",
      "mimetype": "text/x-python",
      "name": "python",
      "nbconvert_exporter": "python",
      "pygments_lexer": "ipython3",
      "version": "3.7.11"
    }
  },
  "nbformat": 4,
  "nbformat_minor": 0
}