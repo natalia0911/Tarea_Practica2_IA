{
  "cells": [
    {
      "cell_type": "markdown",
      "metadata": {
        "id": "view-in-github",
        "colab_type": "text"
      },
      "source": [
        "<a href=\"https://colab.research.google.com/github/natalia0911/Tarea_Practica_2_IA/blob/main/2022_1_Trabajo_Practico_02.ipynb\" target=\"_parent\"><img src=\"https://colab.research.google.com/assets/colab-badge.svg\" alt=\"Open In Colab\"/></a>"
      ]
    },
    {
      "cell_type": "markdown",
      "metadata": {
        "id": "Y5zYLAE8LTvr"
      },
      "source": [
        "**Instituto Tecnológico de Costa Rica**\n",
        "\n",
        "**Escuela de Ingeniería en Computación**\n",
        "\n",
        "**Curso: Inteligencia Artificial**\n",
        "\n",
        "**Primer Semestre 2022**\n",
        "\n",
        "**Profesor: Luis-Alexander Calvo-Valverde**\n",
        "\n",
        "**Trabajo Práctico:** 02\n",
        "\n",
        "**Datos de la entrega:** Lunes 02 de mayo 2022, a más tardar a las 11:59 pm\n",
        "\n",
        "**Estudiantes:**\n",
        "- Natalia Vanessa Vargas Reyes\n",
        "- Estudiante_2\n",
        "\n",
        "\n",
        "\n"
      ]
    },
    {
      "cell_type": "markdown",
      "metadata": {
        "id": "9YxAmoW4y3IJ"
      },
      "source": [
        "___\n",
        "\n",
        "# Parte 1  -  Ejercicio  (80 puntos)\n",
        "___"
      ]
    },
    {
      "cell_type": "markdown",
      "metadata": {
        "id": "0lBpaSc9y3IK"
      },
      "source": [
        "## Introducción\n",
        "\n",
        "Considere:\n",
        "- Se le proporciona un conjunto de datos (HousePriceDataset), si desea conocer un poco de los atributos puede consultar en: https://www.kaggle.com/c/house-prices-advanced-regression-techniques/data?select=train.csv\n",
        "- Note que en la página proporcionada se mencionan más atributos de los que contiene el archivo facilitado.  Usaremos como punto de partida para este TP-2, solo los que incluye el archivo adjunto.\n",
        "- El objetivo de esta parte es ver como el estudiante se enfrenta al proceso de pre-procesamiento, selección de atributos, predicción y evaluación.  Por eso es muy importante que documente en este cuaderno sus decisiones, eso se tomará muy en cuenta en la evaluación de su respuesta.\n",
        "- El atributo a predecir en regresión se denomina: SalePrice.\n",
        "- Debe comentar ampliamente su código\n"
      ]
    },
    {
      "cell_type": "code",
      "execution_count": 1,
      "metadata": {
        "id": "GOqkb2-ly3IK"
      },
      "outputs": [],
      "source": [
        "%matplotlib inline\n",
        "import pandas as pd\n",
        "import math\n",
        "import matplotlib.pyplot as plt\n",
        "import numpy as np\n",
        "import seaborn as sn\n",
        "from sklearn.model_selection import train_test_split\n",
        "from sklearn import linear_model\n",
        "from sklearn.linear_model import LassoLars\n",
        "from sklearn.preprocessing import RobustScaler\n",
        "from sklearn.preprocessing import MinMaxScaler\n",
        "from sklearn.metrics import mean_squared_error\n",
        "from sklearn.metrics import r2_score\n",
        "from sklearn.model_selection import KFold"
      ]
    },
    {
      "cell_type": "markdown",
      "metadata": {
        "id": "EH4wZ1YRAqxb"
      },
      "source": [
        "### 1 (10 puntos)\n",
        "- Cargue el archivo.\n",
        "- Utilice las herramientas (gráficos, funciones que describen contenido o características de las variables, etc) que considere necesarias para analizar los atributos que tiene el dataset y ver si tiene valores faltantes, valores atípicos, etc.\n",
        "- Comente sus conclusiones sobre los atritubos.\n"
      ]
    },
    {
      "cell_type": "code",
      "execution_count": 3,
      "metadata": {
        "id": "BA-EP3RPAqxW",
        "colab": {
          "base_uri": "https://localhost:8080/"
        },
        "outputId": "b7072247-5045-4d99-f3e6-4aa0cf83350c"
      },
      "outputs": [
        {
          "output_type": "stream",
          "name": "stdout",
          "text": [
            "   Id  MSSubClass MSZoning Neighborhood  OverallQual RoofStyle BsmtQual  \\\n",
            "0   1          60       RL      CollgCr            7     Gable       Gd   \n",
            "1   2          20       RL      Veenker            6     Gable       Gd   \n",
            "2   3          60       RL      CollgCr            7     Gable       Gd   \n",
            "3   4          70       RL      Crawfor            7     Gable       TA   \n",
            "4   5          60       RL      NoRidge            8     Gable       Gd   \n",
            "\n",
            "  HeatingQC CentralAir  1stFlrSF  GrLivArea  BsmtFullBath KitchenQual  \\\n",
            "0        Ex          Y       856       1710             1          Gd   \n",
            "1        Ex          Y      1262       1262             0          TA   \n",
            "2        Ex          Y       920       1786             1          Gd   \n",
            "3        Gd          Y       961       1717             1          Gd   \n",
            "4        Ex          Y      1145       2198             1          Gd   \n",
            "\n",
            "  GarageType GarageFinish  GarageCars PavedDrive  SalePrice  \n",
            "0     Attchd          RFn           2          Y     208500  \n",
            "1     Attchd          RFn           2          Y     181500  \n",
            "2     Attchd          RFn           2          Y     223500  \n",
            "3     Detchd          Unf           3          Y     140000  \n",
            "4     Attchd          RFn           3          Y     250000  \n"
          ]
        }
      ],
      "source": [
        "dataset = pd.read_csv('HousePriceDataset.csv', header = 0, delimiter=';')  \n",
        "#print(dataset.describe())\n",
        "print(dataset.head(5))"
      ]
    },
    {
      "cell_type": "markdown",
      "source": [
        "####Matriz de correlación\n",
        "Con esta podemos ver de manera sencilla la relación entre los valores de los distintos atributos, aunque para este caso solo los numéricos.\n",
        "Un valor de correlación alto y positivo indica que los elementos miden la misma destreza o característica."
      ],
      "metadata": {
        "id": "8zSTd_Bt3In-"
      }
    },
    {
      "cell_type": "code",
      "source": [
        "corrMatrix = dataset.corr()\n",
        "sn.heatmap(corrMatrix, annot=True)"
      ],
      "metadata": {
        "colab": {
          "base_uri": "https://localhost:8080/",
          "height": 344
        },
        "id": "zFyEBSsIHioD",
        "outputId": "b1e8c90e-503c-4a75-8f10-a65d1232e022"
      },
      "execution_count": 9,
      "outputs": [
        {
          "output_type": "execute_result",
          "data": {
            "text/plain": [
              "<matplotlib.axes._subplots.AxesSubplot at 0x7fc7bb8a1910>"
            ]
          },
          "metadata": {},
          "execution_count": 9
        },
        {
          "output_type": "display_data",
          "data": {
            "text/plain": [
              "<Figure size 432x288 with 2 Axes>"
            ],
            "image/png": "[encoded data removed]"
          },
          "metadata": {
            "needs_background": "light"
          }
        }
      ]
    },
    {
      "cell_type": "markdown",
      "source": [
        "####Histogramas\n",
        "A continuación se muestran histogramas de los atributos. Esto nos permitirá ver las distribuciones de los mismos, y determinar cuales son ordinales o categoricos, de manera que más adelante se puedan tomar las medidas del caso codificando esos determinados atributos."
      ],
      "metadata": {
        "id": "k0GZRGuvo-Oe"
      }
    },
    {
      "cell_type": "code",
      "source": [
        "# Se grafica con un histograma cada uno de los atributos\n",
        "fig, axs = plt.subplots(6, 3, constrained_layout=True, figsize=(15,15))\n",
        "fig.suptitle('Histograma de cada variable', fontsize=16)\n",
        "\n",
        "d = 1\n",
        "for i in range(6):\n",
        "  for j in range(3):\n",
        "    if i == 3 and j == 2:\n",
        "      break\n",
        "    else:\n",
        "      axs[i,j].set_title(dataset.columns[d])\n",
        "      dataset.iloc[:, d].hist(ax=axs[i,j])\n",
        "      d += 1\n",
        "plt.show()"
      ],
      "metadata": {
        "colab": {
          "base_uri": "https://localhost:8080/",
          "height": 1000
        },
        "id": "2vEYqjRMsVWS",
        "outputId": "eb7d1888-27c1-4c01-9a52-8e2d2d9481d6"
      },
      "execution_count": 5,
      "outputs": [
        {
          "output_type": "display_data",
          "data": {
            "text/plain": [
              "<Figure size 1080x1080 with 18 Axes>"
            ],
            "image/png": "[encoded data removed]"
          },
          "metadata": {
            "needs_background": "light"
          }
        }
      ]
    },
    {
      "cell_type": "markdown",
      "source": [
        "Como se puede observar con las gráficas, tenemos varios atributos que se podrían codificar ya que son variables que deberían ser binarias, tal es el caso de MSZoning, Neighborhood, RoofStyle, CentralAir, BsmFullBath, GarageType, GarageFinish, y PavedDrive.\n",
        "\n",
        "Por otro lado, las variables BsmtQual, HeatingQC y KitchenQual, parecen ser ordinales, pues se manejan con valores Ex, Gd, TA, Fa, Po, de Excellent, Good, Typical average, Fair, y Poor, es decir que y tienen un orden especifico, pues unos valores pesan más que otros. "
      ],
      "metadata": {
        "id": "FYpFQ3_x4Pdf"
      }
    },
    {
      "cell_type": "markdown",
      "source": [
        "####Diagrama de cajas y bigotes"
      ],
      "metadata": {
        "id": "G9ANUiZIugth"
      }
    },
    {
      "cell_type": "code",
      "source": [
        "#Primero comprobemos los tipos de cada columna \n",
        "print(dataset.dtypes)"
      ],
      "metadata": {
        "colab": {
          "base_uri": "https://localhost:8080/"
        },
        "id": "FyDs5G-bul6l",
        "outputId": "c03ff152-b37f-401a-8053-4eb797621f01"
      },
      "execution_count": 6,
      "outputs": [
        {
          "output_type": "stream",
          "name": "stdout",
          "text": [
            "Id               int64\n",
            "MSSubClass       int64\n",
            "MSZoning        object\n",
            "Neighborhood    object\n",
            "OverallQual      int64\n",
            "RoofStyle       object\n",
            "BsmtQual        object\n",
            "HeatingQC       object\n",
            "CentralAir      object\n",
            "1stFlrSF         int64\n",
            "GrLivArea        int64\n",
            "BsmtFullBath     int64\n",
            "KitchenQual     object\n",
            "GarageType      object\n",
            "GarageFinish    object\n",
            "GarageCars       int64\n",
            "PavedDrive      object\n",
            "SalePrice        int64\n",
            "dtype: object\n"
          ]
        }
      ]
    },
    {
      "cell_type": "markdown",
      "source": [
        "Se imprimieron los tipos de los datos para verificar cuáles se podían graficar en un diagrama de bigotes, el cuál nos ayudará a detectar outliers. Este tipo de diagramas es útil en este caso ya que nos permité ver los valores que se alejan de la media y sobresalen de los mínimos y máximos."
      ],
      "metadata": {
        "id": "sFnky1dKuoP8"
      }
    },
    {
      "cell_type": "code",
      "source": [
        "\n",
        "# Se grafica con un boxplot cada uno de los atributos enteros\n",
        "fig, axs = plt.subplots(6, 3, constrained_layout=True, figsize=(20,20))\n",
        "fig.suptitle('Boxplot por variable', fontsize=16)\n",
        "\n",
        "d = 1\n",
        "for i in range(6):\n",
        "  for j in range(3):\n",
        "    if i == 3 and j == 2:\n",
        "      break\n",
        "    else:\n",
        "      if dataset[dataset.columns[d]].dtypes == \"int64\":\n",
        "        axs[i,j].set_title(dataset.columns[d])\n",
        "        axs[i,j].boxplot(dataset.iloc[:,d])\n",
        "      d += 1\n"
      ],
      "metadata": {
        "colab": {
          "base_uri": "https://localhost:8080/",
          "height": 1000
        },
        "id": "tvkKItQQDHXY",
        "outputId": "7e66ea07-a828-48e6-e689-d01566993857"
      },
      "execution_count": 7,
      "outputs": [
        {
          "output_type": "display_data",
          "data": {
            "text/plain": [
              "<Figure size 1440x1440 with 18 Axes>"
            ],
            "image/png": "[encoded data removed]"
          },
          "metadata": {
            "needs_background": "light"
          }
        }
      ]
    },
    {
      "cell_type": "markdown",
      "source": [
        "Podemos notar que las variables presentan valores atípicos, con esto podemos pensar que hace falta hacer un tratamiento de esos. De momento esto nos sirve para observar de manera gráfica que hay valores que se alejan mucho de la media. Más adelante podemos revisar las filas que tienen outliers y hacer algún preprocesamiento de los mismos si fuera el caso, ya a veces tener outliers que no son tan irrelistas o que presentan algún tipo de patrón que se presenta cada cierto tiempo y en casos como ese tampoco es ideal quitarlos."
      ],
      "metadata": {
        "id": "d1MlHItEaGIZ"
      }
    },
    {
      "cell_type": "markdown",
      "source": [
        "####Valores faltantes\n",
        "Aparte de observar los datos y notar que hay valores faltantes, podemos imprimir cuantos valores hay para cada atributo, y como sabemos que tenemos 1460 filas o muestras, notar que uno de los atributos de menos de eso, indicaría que hay valores que más adelante tendremos que tratar, ya sea rellenarlos, ignorarlos o usar algún algoritmo más complejo. "
      ],
      "metadata": {
        "id": "VJ63ywadtQcE"
      }
    },
    {
      "cell_type": "code",
      "source": [
        "print(\"Cantidad de muestras \",len(dataset), \"\\n\")\n",
        "print(dataset.count())\n"
      ],
      "metadata": {
        "colab": {
          "base_uri": "https://localhost:8080/"
        },
        "id": "0WgUj7aFcxVs",
        "outputId": "138386a0-ca19-433e-b36d-82a994640fb3"
      },
      "execution_count": 8,
      "outputs": [
        {
          "output_type": "stream",
          "name": "stdout",
          "text": [
            "Cantidad de muestras  1460 \n",
            "\n",
            "Id              1460\n",
            "MSSubClass      1460\n",
            "MSZoning        1460\n",
            "Neighborhood    1460\n",
            "OverallQual     1460\n",
            "RoofStyle       1460\n",
            "BsmtQual        1423\n",
            "HeatingQC       1460\n",
            "CentralAir      1460\n",
            "1stFlrSF        1460\n",
            "GrLivArea       1460\n",
            "BsmtFullBath    1460\n",
            "KitchenQual     1460\n",
            "GarageType      1379\n",
            "GarageFinish    1379\n",
            "GarageCars      1460\n",
            "PavedDrive      1460\n",
            "SalePrice       1460\n",
            "dtype: int64\n"
          ]
        }
      ]
    },
    {
      "cell_type": "markdown",
      "metadata": {
        "id": "9tNVtXGvAqxe"
      },
      "source": [
        "### 2 (5 puntos)\n",
        "- Se utilizará el modelo Train/Validation (70%)  y Test (30%). \n",
        "- Comente su decisión sobre los parámetros shuffle y random_state\n",
        "- Separe  los  conjuntos de datos (70-30) (X_trainVal, X_test, y_trainVal, y_test )\n",
        "- Muestre los primeros 5 registros de cada conjunto.\n"
      ]
    },
    {
      "cell_type": "markdown",
      "source": [
        "Primero se separan las columnas"
      ],
      "metadata": {
        "id": "z9zVPDjJ4GNc"
      }
    },
    {
      "cell_type": "code",
      "execution_count": 10,
      "metadata": {
        "id": "Leqk_YXcAqxe",
        "colab": {
          "base_uri": "https://localhost:8080/"
        },
        "outputId": "af9c46c8-d161-4e0d-bd39-d52b565b9018"
      },
      "outputs": [
        {
          "output_type": "stream",
          "name": "stdout",
          "text": [
            "\n",
            "Muestra fila 1:     Id  MSSubClass MSZoning Neighborhood  OverallQual RoofStyle BsmtQual  \\\n",
            "0   1          60       RL      CollgCr            7     Gable       Gd   \n",
            "\n",
            "  HeatingQC CentralAir  1stFlrSF  GrLivArea  BsmtFullBath KitchenQual  \\\n",
            "0        Ex          Y       856       1710             1          Gd   \n",
            "\n",
            "  GarageType GarageFinish  GarageCars PavedDrive  \n",
            "0     Attchd          RFn           2          Y  \n",
            "\n",
            "Cantidad de muestras:  1460\n",
            "\n",
            "Cantidad de atributos (incluye y):  18\n"
          ]
        }
      ],
      "source": [
        "my_data = dataset\n",
        "X = my_data.iloc[:, :17]\n",
        "cantidad_muestras = len(my_data)\n",
        "y = my_data.iloc[:, 17]\n",
        "\n",
        "\n",
        "print(\"\\nMuestra fila 1: \",X[0:1])\n",
        "print(\"\\nCantidad de muestras: \", len(my_data))\n",
        "#print(my_data.info())\n",
        "print(\"\\nCantidad de atributos (incluye y): \", my_data.shape[1])\n",
        "\n"
      ]
    },
    {
      "cell_type": "code",
      "source": [
        "\n",
        "X_train, X_test, y_train, y_test = train_test_split(X, \n",
        "                                                    y, \n",
        "                                                    train_size=0.70,\n",
        "                                                    shuffle=True,     #Mezclar los datos y que se reparta aleatoriamente\n",
        "                                                    random_state=40)  #Definir una semilla para usar los mismos valores en todas las corridas\n",
        "\n",
        "print(\"\\nTamaño de X_train + X_test: \", len(X_train)+len(X_test))\n",
        "print(\"\\nTamaño del train: \", len(X_train))\n",
        "print(\"\\nTamaño del test: \", len(X_test))\n",
        "print(\"\\nPrimeros elementos del X_train:\")\n",
        "print( X_train[0:4])\n",
        "print(\"\\nPrimeros elementos del X_test:\")\n",
        "print( X_test[0:4])\n",
        "print(\"\\nPrimeros elementos del y_train:\")\n",
        "print( y_train[0:4])\n",
        "print(\"\\nPrimeros elementos del y_test:\")\n",
        "print( y_test[0:4])"
      ],
      "metadata": {
        "colab": {
          "base_uri": "https://localhost:8080/"
        },
        "id": "ubOzzjxC4OFZ",
        "outputId": "6307c814-d31f-4572-ca5b-ebb023cdb1c4"
      },
      "execution_count": 11,
      "outputs": [
        {
          "output_type": "stream",
          "name": "stdout",
          "text": [
            "\n",
            "Tamaño de X_train + X_test:  1460\n",
            "\n",
            "Tamaño del train:  1021\n",
            "\n",
            "Tamaño del test:  439\n",
            "\n",
            "Primeros elementos del X_train:\n",
            "        Id  MSSubClass MSZoning Neighborhood  OverallQual RoofStyle BsmtQual  \\\n",
            "8        9          50       RM      OldTown            7     Gable       TA   \n",
            "309    310          20       RL      NridgHt            9     Gable       Ex   \n",
            "957    958          20       RL       Sawyer            5       Hip       TA   \n",
            "1022  1023          50       RM      OldTown            5     Gable       TA   \n",
            "\n",
            "     HeatingQC CentralAir  1stFlrSF  GrLivArea  BsmtFullBath KitchenQual  \\\n",
            "8           Gd          Y      1022       1774             0          TA   \n",
            "309         Ex          Y      1944       1944             1          Ex   \n",
            "957         TA          Y      1057       1057             0          TA   \n",
            "1022        Gd          Y       912       1248             0          TA   \n",
            "\n",
            "     GarageType GarageFinish  GarageCars PavedDrive  \n",
            "8        Detchd          Unf           2          Y  \n",
            "309      Attchd          Fin           3          Y  \n",
            "957      Detchd          Fin           2          Y  \n",
            "1022     Detchd          Unf           1          Y  \n",
            "\n",
            "Primeros elementos del X_test:\n",
            "        Id  MSSubClass MSZoning Neighborhood  OverallQual RoofStyle BsmtQual  \\\n",
            "1258  1259          80       RL      Gilbert            7     Gable       Gd   \n",
            "1041  1042          60       RL       NWAmes            6       Hip       TA   \n",
            "1181  1182         120       RM      Crawfor            8       Hip       Ex   \n",
            "1108  1109          60       RL      Gilbert            6     Gable       Gd   \n",
            "\n",
            "     HeatingQC CentralAir  1stFlrSF  GrLivArea  BsmtFullBath KitchenQual  \\\n",
            "1258        Ex          Y      1166       1166             1          Gd   \n",
            "1041        Gd          Y       800       1632             0          Gd   \n",
            "1181        Ex          Y      1652       1652             1          Gd   \n",
            "1108        Ex          Y       948       1690             0          TA   \n",
            "\n",
            "     GarageType GarageFinish  GarageCars PavedDrive  \n",
            "1258     Attchd          Fin           2          Y  \n",
            "1041     Attchd          Unf           2          Y  \n",
            "1181     Attchd          Fin           2          Y  \n",
            "1108     Attchd          RFn           2          Y  \n",
            "\n",
            "Primeros elementos del y_train:\n",
            "8       129900\n",
            "309     360000\n",
            "957     132000\n",
            "1022     87000\n",
            "Name: SalePrice, dtype: int64\n",
            "\n",
            "Primeros elementos del y_test:\n",
            "1258    190000\n",
            "1041    173000\n",
            "1181    392500\n",
            "1108    181000\n",
            "Name: SalePrice, dtype: int64\n"
          ]
        }
      ]
    },
    {
      "cell_type": "markdown",
      "source": [
        "####Comentario sobre shuffle y random_state\n",
        "Shuffle es un atributo que se debe poner en True si se quieren mezclar los datos, esto nos ayudará con la aletoriedad y en este caso se decidió hacer de esta forma porque es eso precesimente lo que andamos buscando al separar el train del test.\n",
        "\n",
        "Por otro lado el random_state, se debe poner en algún valor, un valor inicial que se define por medio de una semilla y es importante ponerlo si queremos que en todas las corridas se usen los mismos valores random, esto es muy útil cuando se trabaja con muestras y no poner un valor en el atributo haría que cada vez que se ejecute el programa, se use uno distinto y por lo tanto cada vez use valores diferentes. \n",
        "\n"
      ],
      "metadata": {
        "id": "JmV2FJXTnB_t"
      }
    },
    {
      "cell_type": "markdown",
      "metadata": {
        "id": "miPS0QToAqxi"
      },
      "source": [
        "### 3  (15 puntos)\n",
        "- Preprocese los atributos (Solo deje para más adelante escalar los datos).\n",
        "- Debe comentar en celdas del texto el por qué seleccionó las técnicas utilizadas."
      ]
    },
    {
      "cell_type": "markdown",
      "source": [
        "####Remover outliers EDITAR ESTO\n",
        "Anteriormente observamos las variables númericas por medio de diagramas de cajas, las cuales nos permitieron mostrar que ciertas variables presentan valores atípicos, estas eran MSSubClass, OverallQual, 1stFlrSF, GrLivArea, GarageCars y SalePrice. Vamos a observar los valores y a \n",
        "eliminarlos o NO SÉ ALGO. HAY QYE VER QUE HACER CON ESTOS, QUIZÁ NO SEA NECESARIO QUITARLOS"
      ],
      "metadata": {
        "id": "1Gi8ay3wc4_k"
      }
    },
    {
      "cell_type": "code",
      "execution_count": 34,
      "metadata": {
        "id": "aNmBM81JAqxj",
        "colab": {
          "base_uri": "https://localhost:8080/",
          "height": 1000
        },
        "outputId": "9ed203a2-446f-4c5c-eda7-082c0093ddb7"
      },
      "outputs": [
        {
          "output_type": "stream",
          "name": "stdout",
          "text": [
            "---------------- Resumen Estadístico de la variable ----------------\n",
            "        MSSubClass\n",
            "count  1460.000000\n",
            "mean     56.897260\n",
            "std      42.300571\n",
            "min      20.000000\n",
            "25%      20.000000\n",
            "50%      50.000000\n",
            "75%      70.000000\n",
            "max     190.000000\n",
            "-----------------Ver outliers -----------------\n",
            "1       20\n",
            "6       20\n",
            "10      20\n",
            "12      20\n",
            "13      20\n",
            "        ..\n",
            "1453    20\n",
            "1454    20\n",
            "1456    20\n",
            "1458    20\n",
            "1459    20\n",
            "Name: MSSubClass, Length: 536, dtype: int64\n",
            "9       190\n",
            "48      190\n",
            "93      190\n",
            "125     190\n",
            "165     190\n",
            "246     190\n",
            "291     190\n",
            "300     190\n",
            "312     190\n",
            "335     190\n",
            "411     190\n",
            "488     190\n",
            "520     190\n",
            "535     190\n",
            "635     190\n",
            "637     190\n",
            "703     190\n",
            "705     190\n",
            "713     190\n",
            "861     190\n",
            "969     190\n",
            "985     190\n",
            "1030    190\n",
            "1062    190\n",
            "1144    190\n",
            "1186    190\n",
            "1190    190\n",
            "1266    190\n",
            "1393    190\n",
            "1416    190\n",
            "Name: MSSubClass, dtype: int64\n",
            "---------------- Resumen Estadístico de la variable después de quitar outliers----------------\n",
            "count    1460.000000\n",
            "mean       56.897260\n",
            "std        42.300571\n",
            "min        20.000000\n",
            "25%        20.000000\n",
            "50%        50.000000\n",
            "75%        70.000000\n",
            "max       190.000000\n",
            "Name: MSSubClass, dtype: float64\n"
          ]
        },
        {
          "output_type": "display_data",
          "data": {
            "text/plain": [
              "<Figure size 432x288 with 1 Axes>"
            ],
            "image/png": "[encoded data removed]"
          },
          "metadata": {
            "needs_background": "light"
          }
        }
      ],
      "source": [
        "data = pd.DataFrame(dataset.MSSubClass)\n",
        "data.boxplot()\n",
        "\n",
        "print(\"---------------- Resumen Estadístico de la variable ----------------\")\n",
        "print(data.describe())\n",
        "\n",
        "values = dataset.MSSubClass\n",
        "print(\"-----------------Ver outliers -----------------\")\n",
        "print(values[values.between(values.quantile(0), values.quantile(.003))] )\n",
        "print(values[values.between(values.quantile(.997), values.quantile(1))] )\n",
        "\n",
        "#Remover Outliers\n",
        "dataset = dataset.loc[values.between(values.quantile(0.001), values.quantile(.998)), :]\n",
        "print(\"---------------- Resumen Estadístico de la variable después de quitar outliers----------------\")\n",
        "print(dataset.MSSubClass.describe())"
      ]
    },
    {
      "cell_type": "markdown",
      "source": [
        "####Valores faltantes\n",
        "Como vimos en la primera parte, hay algunas variables que tienen valores faltantes, debemos hacer algo con esos campos y tenemos varias opciones como ignorar dichas tuplas, rellenar con constantes, usar media o moda, el valor más probable o quizá usar un algoritmo más complejo como una imputación multivariada. \n",
        "En este caso, las variables con valores faltantes son BsmtQual, que es una variable ordinal, GarageType, que es una variable binaria y GarageFinish que también es binaria.\n",
        "Quizá lo mejor en este caso es usar la moda, es decir el dato que más se repite, esto se debe simplemente al tipo de datos que son, ya que la media y mediana quizá no tengan mucho sentido en este contexto."
      ],
      "metadata": {
        "id": "5GRQ6URnc-W7"
      }
    },
    {
      "cell_type": "code",
      "source": [
        "print(X_train.count())\n",
        "print('--------------------')\n",
        "print(X_test.count())"
      ],
      "metadata": {
        "colab": {
          "base_uri": "https://localhost:8080/"
        },
        "id": "rao1-AXm3Ppg",
        "outputId": "2112ed01-7151-4d22-ad25-0c9d4be0ebe3"
      },
      "execution_count": 13,
      "outputs": [
        {
          "output_type": "stream",
          "name": "stdout",
          "text": [
            "Id              1021\n",
            "MSSubClass      1021\n",
            "MSZoning        1021\n",
            "Neighborhood    1021\n",
            "OverallQual     1021\n",
            "RoofStyle       1021\n",
            "BsmtQual         994\n",
            "HeatingQC       1021\n",
            "CentralAir      1021\n",
            "1stFlrSF        1021\n",
            "GrLivArea       1021\n",
            "BsmtFullBath    1021\n",
            "KitchenQual     1021\n",
            "GarageType       960\n",
            "GarageFinish     960\n",
            "GarageCars      1021\n",
            "PavedDrive      1021\n",
            "dtype: int64\n",
            "--------------------\n",
            "Id              439\n",
            "MSSubClass      439\n",
            "MSZoning        439\n",
            "Neighborhood    439\n",
            "OverallQual     439\n",
            "RoofStyle       439\n",
            "BsmtQual        429\n",
            "HeatingQC       439\n",
            "CentralAir      439\n",
            "1stFlrSF        439\n",
            "GrLivArea       439\n",
            "BsmtFullBath    439\n",
            "KitchenQual     439\n",
            "GarageType      419\n",
            "GarageFinish    419\n",
            "GarageCars      439\n",
            "PavedDrive      439\n",
            "dtype: int64\n"
          ]
        }
      ]
    },
    {
      "cell_type": "code",
      "source": [
        "X_train.BsmtQual = X_train.BsmtQual.fillna(X_train['BsmtQual'].mode()[0])\n",
        "X_train.GarageType = X_train.GarageType.fillna(X_train['GarageType'].mode()[0])\n",
        "X_train.GarageFinish = X_train.GarageFinish.fillna(X_train['GarageFinish'].mode()[0])\n",
        "\n",
        "X_test.BsmtQual = X_test.BsmtQual.fillna(X_test['BsmtQual'].mode()[0])\n",
        "X_test.GarageType = X_test.GarageType.fillna(X_test['GarageType'].mode()[0])\n",
        "X_test.GarageFinish = X_test.GarageFinish.fillna(X_test['GarageFinish'].mode()[0])\n",
        "\n",
        "\n",
        "print(X_train.count())\n",
        "print('--------------------')\n",
        "print(X_test.count())\n"
      ],
      "metadata": {
        "colab": {
          "base_uri": "https://localhost:8080/"
        },
        "id": "ebCgj8jXhtQr",
        "outputId": "60818f85-f4f9-40d5-e2e4-7472d03993bd"
      },
      "execution_count": 14,
      "outputs": [
        {
          "output_type": "stream",
          "name": "stdout",
          "text": [
            "Id              1021\n",
            "MSSubClass      1021\n",
            "MSZoning        1021\n",
            "Neighborhood    1021\n",
            "OverallQual     1021\n",
            "RoofStyle       1021\n",
            "BsmtQual        1021\n",
            "HeatingQC       1021\n",
            "CentralAir      1021\n",
            "1stFlrSF        1021\n",
            "GrLivArea       1021\n",
            "BsmtFullBath    1021\n",
            "KitchenQual     1021\n",
            "GarageType      1021\n",
            "GarageFinish    1021\n",
            "GarageCars      1021\n",
            "PavedDrive      1021\n",
            "dtype: int64\n",
            "--------------------\n",
            "Id              439\n",
            "MSSubClass      439\n",
            "MSZoning        439\n",
            "Neighborhood    439\n",
            "OverallQual     439\n",
            "RoofStyle       439\n",
            "BsmtQual        439\n",
            "HeatingQC       439\n",
            "CentralAir      439\n",
            "1stFlrSF        439\n",
            "GrLivArea       439\n",
            "BsmtFullBath    439\n",
            "KitchenQual     439\n",
            "GarageType      439\n",
            "GarageFinish    439\n",
            "GarageCars      439\n",
            "PavedDrive      439\n",
            "dtype: int64\n"
          ]
        }
      ]
    },
    {
      "cell_type": "markdown",
      "source": [
        "####Codificar atributos ordinales\n",
        "Como habíamos visto con el hisgrama, las variables BsmtQual, HeatingQC, y KitchenQual, son variables ordinales, ya que poseen unicamente 6 valores distintos y además tienen un orden específico que es Excellent, Good, Typical average, Fair, y Poor. Entonces lo que vamos a hacer es asignarle un valor numerico a cada valor ordinal para poder tratarlos adecuadamente. "
      ],
      "metadata": {
        "id": "Fy0F2M4jBpmr"
      }
    },
    {
      "cell_type": "code",
      "source": [
        "\n",
        "mapping = { \"Ex\" :5,\"Gd\" :4,\"TA\":3, \"Fa\" :2, \"Po\":1 }    \n",
        "X_test = X_test.replace(mapping)\n",
        "X_train = X_train.replace(mapping)\n",
        "print(X_train.head(5))\n",
        "print(\"------------------------------------------------------\")\n",
        "print(X_test.head(5))\n"
      ],
      "metadata": {
        "colab": {
          "base_uri": "https://localhost:8080/"
        },
        "id": "0xFbxA4LD3a-",
        "outputId": "37ca663c-44e4-43a3-ad1d-e87ac3afe754"
      },
      "execution_count": 15,
      "outputs": [
        {
          "output_type": "stream",
          "name": "stdout",
          "text": [
            "        Id  MSSubClass MSZoning Neighborhood  OverallQual RoofStyle  BsmtQual  \\\n",
            "8        9          50       RM      OldTown            7     Gable         3   \n",
            "309    310          20       RL      NridgHt            9     Gable         5   \n",
            "957    958          20       RL       Sawyer            5       Hip         3   \n",
            "1022  1023          50       RM      OldTown            5     Gable         3   \n",
            "78      79          90       RL       Sawyer            4       Hip         3   \n",
            "\n",
            "      HeatingQC CentralAir  1stFlrSF  GrLivArea  BsmtFullBath  KitchenQual  \\\n",
            "8             4          Y      1022       1774             0            3   \n",
            "309           5          Y      1944       1944             1            5   \n",
            "957           3          Y      1057       1057             0            3   \n",
            "1022          4          Y       912       1248             0            3   \n",
            "78            3          N      1768       1768             0            3   \n",
            "\n",
            "     GarageType GarageFinish  GarageCars PavedDrive  \n",
            "8        Detchd          Unf           2          Y  \n",
            "309      Attchd          Fin           3          Y  \n",
            "957      Detchd          Fin           2          Y  \n",
            "1022     Detchd          Unf           1          Y  \n",
            "78       Attchd          Unf           0          Y  \n",
            "------------------------------------------------------\n",
            "        Id  MSSubClass MSZoning Neighborhood  OverallQual RoofStyle  BsmtQual  \\\n",
            "1258  1259          80       RL      Gilbert            7     Gable         4   \n",
            "1041  1042          60       RL       NWAmes            6       Hip         3   \n",
            "1181  1182         120       RM      Crawfor            8       Hip         5   \n",
            "1108  1109          60       RL      Gilbert            6     Gable         4   \n",
            "554    555          60       RL      NridgHt            7     Gable         4   \n",
            "\n",
            "      HeatingQC CentralAir  1stFlrSF  GrLivArea  BsmtFullBath  KitchenQual  \\\n",
            "1258          5          Y      1166       1166             1            4   \n",
            "1041          4          Y       800       1632             0            4   \n",
            "1181          5          Y      1652       1652             1            4   \n",
            "1108          5          Y       948       1690             0            3   \n",
            "554           5          Y      1006       2046             1            4   \n",
            "\n",
            "     GarageType GarageFinish  GarageCars PavedDrive  \n",
            "1258     Attchd          Fin           2          Y  \n",
            "1041     Attchd          Unf           2          Y  \n",
            "1181     Attchd          Fin           2          Y  \n",
            "1108     Attchd          RFn           2          Y  \n",
            "554     BuiltIn          RFn           3          Y  \n"
          ]
        }
      ]
    },
    {
      "cell_type": "markdown",
      "source": [
        "####Codificar atributos binarios\n",
        "Como lo descubrimos en la primer parte, por medio de gráficas, específicamente histogramas, existen algunas variables categoricas que deberían codificarse a binario, en este caso porque no indican ninguna forma de orden significativa, como los atributos del punto anterior, y por lo tanto de esta forma indicamos que ninguno tiene más peso que otro o mayor probabilidad que el resto, de modo que las columnas se codifican en binario, marcando con un 1 la casilla del atributo correspondiente y el resto en 0. \n",
        "Las variables a codificar son MSZoning, Neighborhood, RoofStyle, CentralAir, BsmFullBath, GarageType, GarageFinish, y PavedDrive."
      ],
      "metadata": {
        "id": "_Rng5tIRGvs_"
      }
    },
    {
      "cell_type": "code",
      "source": [
        "pd.options.display.max_columns = None\n",
        "\n",
        "X_test = pd.get_dummies(X_test, columns=[\"MSZoning\"])\n",
        "X_train = pd.get_dummies(X_train, columns=[\"MSZoning\"])\n",
        "\n",
        "X_test = pd.get_dummies(X_test, columns=[\"Neighborhood\"])\n",
        "X_train = pd.get_dummies(X_train, columns=[\"Neighborhood\"])\n",
        "\n",
        "X_test = pd.get_dummies(X_test, columns=[\"RoofStyle\"])\n",
        "X_train = pd.get_dummies(X_train, columns=[\"RoofStyle\"])\n",
        "\n",
        "X_test = pd.get_dummies(X_test, columns=[\"CentralAir\"])\n",
        "X_train = pd.get_dummies(X_train, columns=[\"CentralAir\"])\n",
        "\n",
        "X_test = pd.get_dummies(X_test, columns=[\"BsmtFullBath\"])\n",
        "X_train = pd.get_dummies(X_train, columns=[\"BsmtFullBath\"])\n",
        "\n",
        "X_test = pd.get_dummies(X_test, columns=[\"GarageType\"])\n",
        "X_train = pd.get_dummies(X_train, columns=[\"GarageType\"])\n",
        "\n",
        "X_test = pd.get_dummies(X_test, columns=[\"GarageFinish\"])\n",
        "X_train = pd.get_dummies(X_train, columns=[\"GarageFinish\"])\n",
        "\n",
        "X_test = pd.get_dummies(X_test, columns=[\"PavedDrive\"])\n",
        "X_train = pd.get_dummies(X_train, columns=[\"PavedDrive\"])\n",
        "\n",
        "print(X_train.head(1))"
      ],
      "metadata": {
        "colab": {
          "base_uri": "https://localhost:8080/"
        },
        "id": "nTm1uZSo-omq",
        "outputId": "4700542d-f513-42b8-abaa-733aa27502de"
      },
      "execution_count": 16,
      "outputs": [
        {
          "output_type": "stream",
          "name": "stdout",
          "text": [
            "   Id  MSSubClass  OverallQual  BsmtQual  HeatingQC  1stFlrSF  GrLivArea  \\\n",
            "8   9          50            7         3          4      1022       1774   \n",
            "\n",
            "   KitchenQual  GarageCars  MSZoning_C (all)  MSZoning_FV  MSZoning_RH  \\\n",
            "8            3           2                 0            0            0   \n",
            "\n",
            "   MSZoning_RL  MSZoning_RM  Neighborhood_Blmngtn  Neighborhood_BrDale  \\\n",
            "8            0            1                     0                    0   \n",
            "\n",
            "   Neighborhood_BrkSide  Neighborhood_ClearCr  Neighborhood_CollgCr  \\\n",
            "8                     0                     0                     0   \n",
            "\n",
            "   Neighborhood_Crawfor  Neighborhood_Edwards  Neighborhood_Gilbert  \\\n",
            "8                     0                     0                     0   \n",
            "\n",
            "   Neighborhood_IDOTRR  Neighborhood_MeadowV  Neighborhood_Mitchel  \\\n",
            "8                    0                     0                     0   \n",
            "\n",
            "   Neighborhood_NAmes  Neighborhood_NPkVill  Neighborhood_NWAmes  \\\n",
            "8                   0                     0                    0   \n",
            "\n",
            "   Neighborhood_NoRidge  Neighborhood_NridgHt  Neighborhood_OldTown  \\\n",
            "8                     0                     0                     1   \n",
            "\n",
            "   Neighborhood_SWISU  Neighborhood_Sawyer  Neighborhood_SawyerW  \\\n",
            "8                   0                    0                     0   \n",
            "\n",
            "   Neighborhood_Somerst  Neighborhood_StoneBr  Neighborhood_Timber  \\\n",
            "8                     0                     0                    0   \n",
            "\n",
            "   Neighborhood_Veenker  RoofStyle_Flat  RoofStyle_Gable  RoofStyle_Gambrel  \\\n",
            "8                     0               0                1                  0   \n",
            "\n",
            "   RoofStyle_Hip  RoofStyle_Mansard  RoofStyle_Shed  CentralAir_N  \\\n",
            "8              0                  0               0             0   \n",
            "\n",
            "   CentralAir_Y  BsmtFullBath_0  BsmtFullBath_1  BsmtFullBath_2  \\\n",
            "8             1               1               0               0   \n",
            "\n",
            "   BsmtFullBath_3  GarageType_2Types  GarageType_Attchd  GarageType_Basment  \\\n",
            "8               0                  0                  0                   0   \n",
            "\n",
            "   GarageType_BuiltIn  GarageType_CarPort  GarageType_Detchd  \\\n",
            "8                   0                   0                  1   \n",
            "\n",
            "   GarageFinish_Fin  GarageFinish_RFn  GarageFinish_Unf  PavedDrive_N  \\\n",
            "8                 0                 0                 1             0   \n",
            "\n",
            "   PavedDrive_P  PavedDrive_Y  \n",
            "8             0             1  \n"
          ]
        }
      ]
    },
    {
      "cell_type": "code",
      "source": [
        "#COMPROBAR LA NUEVA CANTIDAD DE ATRIBUTOS\n",
        "print(\"\\nCantidad de atributos train (no incluye y): \", X_train.shape[1])\n",
        "print(\"\\nCantidad de atributos test (no incluye y): \", X_test.shape[1])"
      ],
      "metadata": {
        "colab": {
          "base_uri": "https://localhost:8080/"
        },
        "id": "PgZ7Y3MUHYT6",
        "outputId": "0acfcdb9-d375-45b8-cf23-b2f3b7444257"
      },
      "execution_count": 17,
      "outputs": [
        {
          "output_type": "stream",
          "name": "stdout",
          "text": [
            "\n",
            "Cantidad de atributos train (no incluye y):  62\n",
            "\n",
            "Cantidad de atributos test (no incluye y):  62\n"
          ]
        }
      ]
    },
    {
      "cell_type": "markdown",
      "metadata": {
        "id": "F2aijX35Aqxm"
      },
      "source": [
        "### 4 (10 puntos)\n",
        "- Realice selección de atributos.\n",
        "- Debe utilizar al menos una técnica para justificar su decisión (De entre los métodos: Filter, Wrapper, Embedded).\n",
        "- ¿Qué hará con el atributo denominado: \"Id\"?\n",
        "- Comente sus conclusiones.\n"
      ]
    },
    {
      "cell_type": "markdown",
      "source": [
        "####Lasso"
      ],
      "metadata": {
        "id": "PMh2l-3gwplL"
      }
    },
    {
      "cell_type": "code",
      "execution_count": 18,
      "metadata": {
        "id": "hI1ridvAAqxn",
        "colab": {
          "base_uri": "https://localhost:8080/"
        },
        "outputId": "a5b80705-7262-4158-d581-ab481d437e75"
      },
      "outputs": [
        {
          "output_type": "stream",
          "name": "stdout",
          "text": [
            "Método de selección de atributos lasso\n",
            "Coeficientes:  [-4.62712062e+00 -1.78698950e+02  1.16047507e+04  1.11827599e+04\n",
            "  1.80734419e+03  1.64998494e+00  4.96669363e+01  1.21471324e+04\n",
            "  1.07158963e+04 -9.87833559e+04 -6.36301972e+04 -5.05718300e+04\n",
            " -5.47635033e+04 -6.97910757e+04 -1.19938154e+04  2.69844393e+03\n",
            " -8.83481852e+02  1.02797973e+04 -7.71508387e+03  1.12370626e+04\n",
            " -2.35173501e+04 -1.57936682e+04  1.06622929e+03 -7.90804194e+02\n",
            " -1.14257286e+04 -1.31810000e+04 -3.52529949e+03 -1.13918630e+04\n",
            "  6.90808384e+04  5.04282830e+04 -1.39471472e+04 -2.18444674e+04\n",
            " -1.18652430e+04 -1.45776645e+04  1.16872032e+04  6.79244429e+04\n",
            "  8.83964539e+02  3.60319543e+04  5.65399907e+03 -4.80406146e+03\n",
            "  1.89995457e+04  2.65593565e+03 -5.97543224e+03 -1.03847626e+04\n",
            " -2.33716039e+03  1.69395028e+02 -6.86533136e+03  5.82630674e+03\n",
            "  2.60454200e+03  7.13891316e+04 -1.90127076e+04  4.42141619e+03\n",
            "  6.67333146e+03  6.18953488e+02 -2.13183240e+04 -1.51449587e+02\n",
            "  5.38280545e+03 -3.18703213e+03 -1.59804498e+03 -2.95934034e+03\n",
            "  4.93772639e+02 -1.11158993e+01]\n"
          ]
        },
        {
          "output_type": "stream",
          "name": "stderr",
          "text": [
            "/usr/local/lib/python3.7/dist-packages/sklearn/linear_model/_base.py:155: FutureWarning: 'normalize' was deprecated in version 1.0 and will be removed in 1.2. Please leave the normalize parameter to its default value to silence this warning. The default behavior of this estimator is to not do any normalization. If normalization is needed please use sklearn.preprocessing.StandardScaler instead.\n",
            "  FutureWarning,\n",
            "/usr/local/lib/python3.7/dist-packages/sklearn/linear_model/_coordinate_descent.py:648: ConvergenceWarning: Objective did not converge. You might want to increase the number of iterations, check the scale of the features or consider increasing regularisation. Duality gap: 5.357e+11, tolerance: 4.047e+09\n",
            "  coef_, l1_reg, l2_reg, X, y, max_iter, tol, rng, random, positive\n"
          ]
        }
      ],
      "source": [
        "#CONSULTA: CUANDO SE HACE LASSO PARA REDUCIR ATRIBUTOS... SE HACE CON TODO EL CONJUNTO?\n",
        "# O SE HACE CON EL TRAIN, Y LEUGO SE ELIMINAN LAS COLUMNAS DEL TRAIN Y TEST QUE SON CERCANAS A 0 O MENORES?\n",
        "print(\"Método de selección de atributos lasso\")\n",
        "reg = linear_model.Lasso(alpha=1.0, fit_intercept=False)    #PREGUNTAR QUE HACER CON EL NORMALIZAR, Y CON EL BIAS \n",
        "reg.fit(X_train, y_train)                                                 #PREGUNTAR SI SE HACE CON EL TRAIN Y EL TEST \n",
        "#Solo se hace con el train, y se lo quito tanto al test como al train\n",
        "print( \"Coeficientes: \", reg.coef_ )"
      ]
    },
    {
      "cell_type": "code",
      "source": [
        "columns_names = X_train.columns.values\n",
        "for i in range(len(reg.coef_)):\n",
        "  if not reg.coef_[i]>1:\n",
        "    X_train = X_train.drop([columns_names[i]], axis=1)\n",
        "    X_test = X_test.drop([columns_names[i]], axis=1)\n",
        "    np.delete(columns_names, i)\n",
        "    print(\"Eliminated \", columns_names[i], reg.coef_[i])\n"
      ],
      "metadata": {
        "colab": {
          "base_uri": "https://localhost:8080/"
        },
        "id": "EPPut_4QOATV",
        "outputId": "31d7a813-4ffb-4f82-e891-1bf582d102b5"
      },
      "execution_count": 19,
      "outputs": [
        {
          "output_type": "stream",
          "name": "stdout",
          "text": [
            "Eliminated  Id -4.62712061784243\n",
            "Eliminated  MSSubClass -178.69895019541894\n",
            "Eliminated  MSZoning_C (all) -98783.3559201139\n",
            "Eliminated  MSZoning_FV -63630.197218229594\n",
            "Eliminated  MSZoning_RH -50571.830044941955\n",
            "Eliminated  MSZoning_RL -54763.50325387775\n",
            "Eliminated  MSZoning_RM -69791.07567460777\n",
            "Eliminated  Neighborhood_Blmngtn -11993.815418261347\n",
            "Eliminated  Neighborhood_BrkSide -883.481852370168\n",
            "Eliminated  Neighborhood_CollgCr -7715.083871994063\n",
            "Eliminated  Neighborhood_Edwards -23517.350145156986\n",
            "Eliminated  Neighborhood_Gilbert -15793.668161801188\n",
            "Eliminated  Neighborhood_MeadowV -790.8041938731373\n",
            "Eliminated  Neighborhood_Mitchel -11425.728566224547\n",
            "Eliminated  Neighborhood_NAmes -13180.99995070607\n",
            "Eliminated  Neighborhood_NPkVill -3525.299491920079\n",
            "Eliminated  Neighborhood_NWAmes -11391.86299006419\n",
            "Eliminated  Neighborhood_OldTown -13947.147201112653\n",
            "Eliminated  Neighborhood_SWISU -21844.46742328348\n",
            "Eliminated  Neighborhood_Sawyer -11865.242956550397\n",
            "Eliminated  Neighborhood_SawyerW -14577.664479495614\n",
            "Eliminated  RoofStyle_Gable -4804.061460230157\n",
            "Eliminated  RoofStyle_Mansard -5975.4322431610735\n",
            "Eliminated  RoofStyle_Shed -10384.762562324338\n",
            "Eliminated  CentralAir_N -2337.160385822695\n",
            "Eliminated  BsmtFullBath_0 -6865.331362351279\n",
            "Eliminated  GarageType_2Types -19012.707639989254\n",
            "Eliminated  GarageType_CarPort -21318.324029042655\n",
            "Eliminated  GarageType_Detchd -151.44958686815804\n",
            "Eliminated  GarageFinish_RFn -3187.0321303094543\n",
            "Eliminated  GarageFinish_Unf -1598.0449801555826\n",
            "Eliminated  PavedDrive_N -2959.340335261107\n",
            "Eliminated  PavedDrive_Y -11.115899338939773\n"
          ]
        }
      ]
    },
    {
      "cell_type": "code",
      "source": [
        "print(\"\\nCantidad de atributos train (no incluye y): \", X_train.shape[1])\n",
        "new_columns_names = X_train.columns.values\n",
        "print(len(new_columns_names))"
      ],
      "metadata": {
        "colab": {
          "base_uri": "https://localhost:8080/"
        },
        "id": "0X3oVqgXQOT4",
        "outputId": "fa406949-fb68-4df8-fe05-2db95ab6aa5e"
      },
      "execution_count": 20,
      "outputs": [
        {
          "output_type": "stream",
          "name": "stdout",
          "text": [
            "\n",
            "Cantidad de atributos train (no incluye y):  29\n",
            "29\n"
          ]
        }
      ]
    },
    {
      "cell_type": "markdown",
      "metadata": {
        "id": "97T8JyJoAqxq"
      },
      "source": [
        "### 1.5  (5 puntos)\n",
        "- Escale los datos.\n",
        "- Comente qué técnica utilizó y por qué.\n",
        "- Guarde el archivo ya pre-procesado con el nombre: \"'HousePriceDatasetPROCESADO\"\n",
        "\n",
        "**Nota:** No olvide cómo manejará el \"bias\" (o agregar columna de unos, o si la implementación de los algoritmos que utilizará permiten indicarle que lo agregue).\n"
      ]
    },
    {
      "cell_type": "markdown",
      "source": [
        "####RobustScaler \n",
        "Decidimos usar este método para escalar los datos, ya que al usar el rango intercualitico, estarían menos distribuidos nuestros datos. Puede ser un punto a favor, ya que no se eliminaron los outliers, pues no eran excesivamente lejanos ni tampoco incoherentes como para quitarlos. \n",
        "En este caso el escalamiento robusto no es sensible a outliers por lo que hará un mejor escalamiento para el caso de nuestro conjunto de datos. \n",
        "\n",
        "####Bias\n",
        "Por otro lado, el bias no se manejará de momento, pues dicha columna puede ser agregada con el parametro fit_intercept en el modelo que se utilice para la predicción, por lo que agregará hasta el siguiente punto de la tarea programa, donde se aplican tres modelos. "
      ],
      "metadata": {
        "id": "NMsn4KNKpDso"
      }
    },
    {
      "cell_type": "code",
      "execution_count": 22,
      "metadata": {
        "id": "U7MXlIo7Aqxq",
        "colab": {
          "base_uri": "https://localhost:8080/"
        },
        "outputId": "ffa39d38-0364-40b9-c18a-0479cfa66ebc"
      },
      "outputs": [
        {
          "output_type": "stream",
          "name": "stdout",
          "text": [
            "Primeros X_train:  [[ 0.5        -1.         -0.5        -0.13017751  0.47462687  0.\n",
            "   0.          0.          0.          0.          0.          0.\n",
            "   0.          0.          0.          0.          0.          0.\n",
            "   0.          0.          0.          0.          0.          0.\n",
            "  -1.          0.          0.          0.          0.        ]]\n",
            "Primeros X_test:  [[ 0.5         0.          0.          0.15384615 -0.43283582  1.\n",
            "   0.          0.          0.          0.          0.          0.\n",
            "   0.          0.          0.          0.          0.          0.\n",
            "   0.          0.         -1.          1.          1.          0.\n",
            "   0.          0.          0.          1.          0.        ]]\n"
          ]
        }
      ],
      "source": [
        "# Escalar datos\n",
        "transformer = RobustScaler().fit(X_train)\n",
        "X_train = transformer.transform( X_train)\n",
        "X_test = transformer.transform( X_test)\n",
        "print(\"Primeros X_train: \", X_train[0:1])\n",
        "print(\"Primeros X_test: \", X_test[0:1])"
      ]
    },
    {
      "cell_type": "code",
      "source": [
        "\n",
        "#JUNTAR XTRAIN,YTRAIN, XTEST,YTEST :)\n",
        "new_columns_names = np.append(new_columns_names,'SalePrice')\n",
        "print(new_columns_names)\n",
        "\n",
        "X_concat = np.concatenate((X_train,X_test), axis=0)\n",
        "\n",
        "Y_concat = np.concatenate((y_train,y_test), axis=0)\n",
        "#Se convierte a matriz y luego se hace columna\n",
        "Y_concat = np.asmatrix(Y_concat)\n",
        "Y_concat = np.transpose(Y_concat)\n",
        "#Se agrega la columna de Y \n",
        "data = np.concatenate((X_concat,Y_concat), axis=1)\n",
        "\n",
        "#Guardar el dataset en un csv\n",
        "X_df = pd.DataFrame(data = data, columns = new_columns_names)\n",
        "X_df.to_csv(\"HousePriceDatasetPROCESADO.csv\",index=False)\n"
      ],
      "metadata": {
        "colab": {
          "base_uri": "https://localhost:8080/"
        },
        "id": "P8Va3S3dgAYI",
        "outputId": "9f33e1f2-0fca-491e-ec84-8b43424e1fdf"
      },
      "execution_count": 23,
      "outputs": [
        {
          "output_type": "stream",
          "name": "stdout",
          "text": [
            "['OverallQual' 'BsmtQual' 'HeatingQC' '1stFlrSF' 'GrLivArea' 'KitchenQual'\n",
            " 'GarageCars' 'Neighborhood_BrDale' 'Neighborhood_ClearCr'\n",
            " 'Neighborhood_Crawfor' 'Neighborhood_IDOTRR' 'Neighborhood_NoRidge'\n",
            " 'Neighborhood_NridgHt' 'Neighborhood_Somerst' 'Neighborhood_StoneBr'\n",
            " 'Neighborhood_Timber' 'Neighborhood_Veenker' 'RoofStyle_Flat'\n",
            " 'RoofStyle_Gambrel' 'RoofStyle_Hip' 'CentralAir_Y' 'BsmtFullBath_1'\n",
            " 'BsmtFullBath_2' 'BsmtFullBath_3' 'GarageType_Attchd'\n",
            " 'GarageType_Basment' 'GarageType_BuiltIn' 'GarageFinish_Fin'\n",
            " 'PavedDrive_P' 'SalePrice']\n"
          ]
        }
      ]
    },
    {
      "cell_type": "markdown",
      "metadata": {
        "id": "7luDf08KAqxt"
      },
      "source": [
        "### 1.6 (20 puntos)\n",
        "Presente e implemente un diseño experimental que incluya:\n",
        "- Tres algoritmos diferentes:\n",
        "    - Uno será la regresión lineal de mínimos cuadrados sin regularización (OLSR).\n",
        "    - Usted eligirá un método más, que no sea de los vistos en clase. Si tiene dudas de si puede o no usar algún método, puede consultar al profesor.\n",
        "    - Como el OLSR no tiene hiperparámetros, use todo el train/validation para entrenar. Para los otros dos métodos, debe usar ten-cross-validation para seleccionar al menos un hiperparámetro.\n",
        "    - Debe registrar las métricas RMSE y R2. Usted decide cuál de estas dos métricas usa para selecionar la mejor configuración (Justifique su selección).\n",
        "    \n",
        "**Nota:** Para cada el algoritmo adicional seleccionado (no el OLSR) explique los parámetros que recibe. \n",
        "    "
      ]
    },
    {
      "cell_type": "code",
      "source": [
        "def muestreMetricas(py_test, py_pred, psquared):\n",
        "    metrica = mean_squared_error(py_test, py_pred, squared=psquared)\n",
        "    # If True returns MSE value, if False returns RMSE value.\n",
        "    if psquared:\n",
        "        print(\"RMSE: \", metrica)\n",
        "    else: \n",
        "        print(\"MSE: \", metrica)\n",
        "    print(\"R2: \", r2_score(py_test, py_pred) )"
      ],
      "metadata": {
        "id": "NTgr3yAEM1wY"
      },
      "execution_count": 24,
      "outputs": []
    },
    {
      "cell_type": "markdown",
      "source": [
        "####Regresion lineal de mínimos cuadrados sin regularización OLSR\n",
        "Para este modelo se agrega la columna del bias, como se mencionó en el punto anterior pues al momento de modelar sí no es importante. Además cabe mencionar que se puso el parametro mormalize porque para este modelo está obsoleta, y por defecto no normaliza y no lo necesitamos porque anteriormente se usó el escalamiento robusto. "
      ],
      "metadata": {
        "id": "bb_EXPaDhJ1o"
      }
    },
    {
      "cell_type": "code",
      "execution_count": 25,
      "metadata": {
        "id": "30z4eKbKAqxt",
        "colab": {
          "base_uri": "https://localhost:8080/"
        },
        "outputId": "0b18e0e5-00c3-49fe-cade-73d5f0460960"
      },
      "outputs": [
        {
          "output_type": "stream",
          "name": "stdout",
          "text": [
            "Regresion lineal de mínimos cuadrados sin regularización OLSR\n",
            "RMSE:  1467516394.99095\n",
            "R2:  0.7178142042159666\n"
          ]
        }
      ],
      "source": [
        "print( \"Regresion lineal de mínimos cuadrados sin regularización OLSR\")\n",
        "\n",
        "regression = linear_model.LinearRegression( \n",
        "                                           fit_intercept=True,\n",
        "                                           copy_X=True, \n",
        "                                           n_jobs=None)\n",
        "regression.fit(X_train, y_train)\n",
        "y_pred = regression.predict(X_test)\n",
        "muestreMetricas(y_test, y_pred, True)\n",
        "\n"
      ]
    },
    {
      "cell_type": "code",
      "source": [
        "def getBestAlpha(resultados):\n",
        "    mejor = math.inf\n",
        "    elMejor = 0.0\n",
        "    for e in resultados:\n",
        "        if resultados[e] < mejor:\n",
        "            mejor = resultados[e]\n",
        "            elMejor = e\n",
        "    return mejor, elMejor"
      ],
      "metadata": {
        "id": "vikaI3MlDp-F"
      },
      "execution_count": 26,
      "outputs": []
    },
    {
      "cell_type": "markdown",
      "source": [
        "####Regresión Ridge con Ten-Cross-Validation"
      ],
      "metadata": {
        "id": "CEsa_-K_9Z4F"
      }
    },
    {
      "cell_type": "markdown",
      "source": [
        "Como realmente no se especificó hacer más que un nuevo algoritmo, para el segundo se eleigió Ridge, en este caso el normalize está en desuso y el default es no hacerlo, pero ya hemos escalado los datos. "
      ],
      "metadata": {
        "id": "gy-92sLSImnz"
      }
    },
    {
      "cell_type": "code",
      "source": [
        "\n",
        "print(\"\\nTamaño del train-validation: \", len(X_train))\n",
        "print(\"\\nTamaño del test: \", len(X_test))\n",
        "\n",
        "print(\"\\nCantidad de muestras: \", len(X_train)+len(X_test))\n",
        "\n",
        "#Hiperparametros \n",
        "alfas = [10**i for i in (-4,-3,-2,-1,0,1,2,3,4) ]\n",
        "resultados_alfa = {}\n",
        "numFolds = 10 #Para el ten cross validatiom \n",
        "print('-----------------------------------------------------------------------')\n",
        "\n",
        "for alfa in alfas:\n",
        "    kf = KFold(n_splits=numFolds,\n",
        "               shuffle=True,\n",
        "               random_state=10)\n",
        "    resultados = []\n",
        "    kf.get_n_splits(X_train)\n",
        "\n",
        "\n",
        "    keysY = y_train.keys()\n",
        "\n",
        "    for train_index, val_index in kf.split(X_train): \n",
        "      \n",
        "        X_train_tmp = X_train[train_index]\n",
        "        X_val_tpm = X_train[val_index]\n",
        "        y_train_tmp = y_train[keysY[train_index]]\n",
        "        y_val_tmp = y_train[keysY[val_index]]\n",
        "\n",
        "        clf = linear_model.Ridge(alpha=alfa, fit_intercept=True)\n",
        "        clf.fit(X_train, y_train)\n",
        "        y_pred = clf.predict(X_val_tpm)\n",
        "        metrica = mean_squared_error(y_val_tmp, y_pred, squared=False)\n",
        "        # If True returns MSE value, if False returns RMSE value.\n",
        "        resultados.append(metrica)\n",
        "\n",
        "    promedio = sum(resultados) / len(resultados) \n",
        "    print(\"\\nMétricas obtenidas en cross-validation para alfa de: \", alfa, \" - \", resultados, \n",
        "          \"     con un promedio de: \", promedio)\n",
        "    resultados_alfa[alfa] = promedio\n",
        "\n",
        "print('-----------------------------------------------------------------------')\n",
        "print(\"\\nResultados del Train-Validation: \", resultados_alfa)\n",
        "mejor_metrica, mejor_alfa = getBestAlpha(resultados_alfa)\n",
        "print('-----------------------------------------------------------------------')\n",
        "print(\"\\nMejor valor de métrica en Train-Validation: \", mejor_metrica,\", Alfa: \", mejor_alfa,)\n",
        "\n",
        "#Entrenar y predecir con el mejor alfa\n",
        "clf = linear_model.Ridge(alpha=mejor_alfa, fit_intercept=True)\n",
        "clf.fit(X_train, y_train)\n",
        "y_pred = clf.predict(X_test)\n",
        "#Mostrar R2 y RMSE\n",
        "muestreMetricas(y_test, y_pred, True)\n"
      ],
      "metadata": {
        "id": "xxnu1qmwgryM",
        "colab": {
          "base_uri": "https://localhost:8080/"
        },
        "outputId": "acfe0d0d-64b0-4606-8472-11a2145602ba"
      },
      "execution_count": 32,
      "outputs": [
        {
          "output_type": "stream",
          "name": "stdout",
          "text": [
            "\n",
            "Tamaño del train-validation:  1021\n",
            "\n",
            "Tamaño del test:  439\n",
            "\n",
            "Cantidad de muestras:  1460\n",
            "-----------------------------------------------------------------------\n",
            "\n",
            "Métricas obtenidas en cross-validation para alfa de:  0.0001  -  [27067.733831897192, 40614.416975148044, 37644.94753193743, 28065.495334971056, 36569.35334334165, 24541.72141156058, 27093.68828589155, 44480.726240548014, 26006.76551697166, 39095.69131458145]      con un promedio de:  33118.05397868486\n",
            "\n",
            "Métricas obtenidas en cross-validation para alfa de:  0.001  -  [27067.5919765797, 40614.54446977408, 37644.90438218477, 28065.251764053748, 36569.35934262586, 24541.75534104138, 27093.318552418965, 44481.10138439382, 26006.67297511262, 39095.73920328353]      con un promedio de:  33118.02393914685\n",
            "\n",
            "Métricas obtenidas en cross-validation para alfa de:  0.01  -  [27066.173080380155, 40615.82349529686, 37644.47611500381, 28062.820872896413, 36569.42294561039, 24542.09831343369, 27089.624690705303, 44484.884442848655, 26005.750548748518, 39096.223279886326]      con un promedio de:  33117.72977848102\n",
            "\n",
            "Métricas obtenidas en cross-validation para alfa de:  0.1  -  [27051.979770084527, 40628.98460195329, 37640.504450659435, 28038.97761284129, 36570.403736620276, 24545.864852964554, 27053.042334754227, 44525.25928714782, 25996.83769990719, 39101.5482903368]      con un promedio de:  33115.34026372694\n",
            "\n",
            "Métricas obtenidas en cross-validation para alfa de:  1  -  [26922.71497139728, 40778.72367352747, 37624.33287009771, 27837.745871836294, 36604.79361559396, 24601.60353267108, 26724.81135253693, 44964.31294917959, 25941.263464224183, 39184.57784164225]      con un promedio de:  33118.488014270675\n",
            "\n",
            "Métricas obtenidas en cross-validation para alfa de:  10  -  [26695.316100592052, 42136.40340904993, 38091.34211842501, 27304.04450758144, 37412.26927489857, 25279.24771597241, 25384.114107116002, 47509.6105148543, 26567.9326948825, 40349.27443763148]      con un promedio de:  33672.95548810037\n",
            "\n",
            "Métricas obtenidas en cross-validation para alfa de:  100  -  [28827.193298198956, 46050.95360815255, 41328.13549175617, 28276.70144366264, 40609.38550449003, 27098.19618469508, 25349.64108283876, 51774.28820833092, 29627.386812713503, 42487.76180643315]      con un promedio de:  36142.96434412718\n",
            "\n",
            "Métricas obtenidas en cross-validation para alfa de:  1000  -  [36704.38805302905, 59078.05987000003, 54951.78006340565, 33371.23226621883, 52419.1896202332, 35809.4975160125, 32576.015612428248, 55207.31302414983, 38602.45579194107, 43848.12966624957]      con un promedio de:  44256.80614836679\n",
            "\n",
            "Métricas obtenidas en cross-validation para alfa de:  10000  -  [59672.2240154543, 91033.53810665266, 85472.4973074205, 57409.71059454272, 80517.15276571689, 63923.336540778604, 58075.953968256676, 76833.79494660336, 67670.14969433943, 65629.1560198796]      con un promedio de:  70623.75139596447\n",
            "-----------------------------------------------------------------------\n",
            "\n",
            "Resultados del Train-Validation:  {0.0001: 33118.05397868486, 0.001: 33118.02393914685, 0.01: 33117.72977848102, 0.1: 33115.34026372694, 1: 33118.488014270675, 10: 33672.95548810037, 100: 36142.96434412718, 1000: 44256.80614836679, 10000: 70623.75139596447}\n",
            "-----------------------------------------------------------------------\n",
            "\n",
            "Mejor valor de métrica en Train-Validation:  33115.34026372694 , Alfa:  0.1\n",
            "RMSE:  1453759849.7099028\n",
            "R2:  0.7204594228251906\n"
          ]
        }
      ]
    },
    {
      "cell_type": "markdown",
      "source": [
        "#### Lasso LARS con Ten-Cross-Validation\n",
        "El tercer algororitmo se realizó con un modelo diferente a los vistos en clase, en este caso el Lasso LARS, El algoritmo Least angle regression (LAR) está fuertemente conectado con el Lasso, y de\n",
        "hecho proporciona un procedimiento muy eficiente para computar el Lasso. \n",
        "Es similar a la regresión hacia adelante, en donde el primer paso es identificar la variable más correlacionada, es decir, dado un conjunto de vectores se selecciona el vector que tenga la correlación absoluta más grande con la respuesta. En vez de adaptarse a esta variable, incrementa continuamente el valor del vector estimado hasta el punto donde la dirección del vector tenga la misma correlación con el residuo actual, este nuevo coeficiente entra al conjunto activo y el proceso continúa. \n",
        "\n",
        "En este caso el parámetro que recibe es alpha que es la constante que multiplica el término de penalización."
      ],
      "metadata": {
        "id": "mjicvs-4OB93"
      }
    },
    {
      "cell_type": "code",
      "source": [
        "\n",
        "print(\"\\nTamaño del train-validation: \", len(X_train))\n",
        "print(\"\\nTamaño del test: \", len(X_test))\n",
        "\n",
        "print(\"\\nCantidad de muestras: \", len(X_train)+len(X_test))\n",
        "\n",
        "#Hiperparametros \n",
        "alfas = [10**i for i in (-4,-3,-2,-1,0,1,2,3,4) ]\n",
        "resultados_alfa = {}\n",
        "numFolds = 10 #Para el ten cross validatiom \n",
        "print('-----------------------------------------------------------------------')\n",
        "\n",
        "for alfa in alfas:\n",
        "    kf = KFold(n_splits=numFolds,\n",
        "               shuffle=True,\n",
        "               random_state=10)\n",
        "    resultados = []\n",
        "    kf.get_n_splits(X_train)\n",
        "\n",
        "\n",
        "    keysY = y_train.keys()\n",
        "\n",
        "    for train_index, val_index in kf.split(X_train): \n",
        "      \n",
        "        X_train_tmp = X_train[train_index]\n",
        "        X_val_tpm = X_train[val_index]\n",
        "        y_train_tmp = y_train[keysY[train_index]]\n",
        "        y_val_tmp = y_train[keysY[val_index]]\n",
        "\n",
        "        clf = linear_model.LassoLars(alpha=alfa, fit_intercept=True, normalize=False)\n",
        "        clf.fit(X_train, y_train)\n",
        "        y_pred = clf.predict(X_val_tpm)\n",
        "        metrica = mean_squared_error(y_val_tmp, y_pred, squared=False)\n",
        "        # If True returns MSE value, if False returns RMSE value.\n",
        "        resultados.append(metrica)\n",
        "\n",
        "    promedio = sum(resultados) / len(resultados) \n",
        "    print(\"\\nMétricas obtenidas en cross-validation para alfa de: \", alfa, \" - \", resultados, \n",
        "          \"     con un promedio de: \", promedio)\n",
        "    resultados_alfa[alfa] = promedio\n",
        "\n",
        "print('-----------------------------------------------------------------------')\n",
        "print(\"\\nResultados del Train-Validation: \", resultados_alfa)\n",
        "mejor_metrica, mejor_alfa = getBestAlpha(resultados_alfa)\n",
        "print('-----------------------------------------------------------------------')\n",
        "print(\"\\nMejor valor de métrica en Train-Validation: \", mejor_metrica,\", Alfa: \", mejor_alfa,)\n",
        "\n",
        "#Entrenar y predecir con el mejor alfa\n",
        "clf = linear_model.LassoLars(alpha=alfa, fit_intercept=True, normalize=False)\n",
        "clf.fit(X_train, y_train)\n",
        "y_pred = clf.predict(X_test)\n",
        "#Mostrar R2 y RMSE\n",
        "muestreMetricas(y_test, y_pred, True)"
      ],
      "metadata": {
        "id": "JHDySxAhN_W9",
        "colab": {
          "base_uri": "https://localhost:8080/"
        },
        "outputId": "10bad246-af28-49ce-fe57-8fafc7fb467e"
      },
      "execution_count": 33,
      "outputs": [
        {
          "output_type": "stream",
          "name": "stdout",
          "text": [
            "\n",
            "Tamaño del train-validation:  1021\n",
            "\n",
            "Tamaño del test:  439\n",
            "\n",
            "Cantidad de muestras:  1460\n",
            "-----------------------------------------------------------------------\n",
            "\n",
            "Métricas obtenidas en cross-validation para alfa de:  0.0001  -  [27067.749798974906, 40614.40296830519, 37644.951994146206, 28065.522114069812, 36569.35265692093, 24541.71806243006, 27093.728462267456, 44480.68480801095, 26006.775792824803, 39095.68638048833]      con un promedio de:  33118.05730384387\n",
            "\n",
            "Métricas obtenidas en cross-validation para alfa de:  0.001  -  [27067.7516511756, 40614.40435974713, 37644.94897152827, 28065.51950621201, 36569.352441791496, 24541.721812263444, 27093.720281220758, 44480.686732506416, 26006.77570358098, 39095.689809567455]      con un promedio de:  33118.057126959364\n",
            "\n",
            "Métricas obtenidas en cross-validation para alfa de:  0.01  -  [27067.77017480234, 40614.4182759623, 37644.91874692725, 28065.493429109865, 36569.350292052135, 24541.759312484995, 27093.638472581188, 44480.70598892665, 26006.774812850566, 39095.724102207045]      con un promedio de:  33118.05536079044\n",
            "\n",
            "Métricas obtenidas en cross-validation para alfa de:  0.1  -  [27067.955573049032, 40614.557617688886, 37644.61665875339, 28065.232805670767, 36569.3289501637, 24542.134503475037, 27092.82056893269, 44480.89969967752, 26006.76607632544, 39096.06721343116]      con un promedio de:  33118.037966716765\n",
            "\n",
            "Métricas obtenidas en cross-validation para alfa de:  1  -  [27069.825752204153, 40615.9689917625, 37641.611562048594, 28062.64133103461, 36569.13108188808, 24545.90528761795, 27084.659813287104, 44482.95145633931, 26006.695789032, 39099.51680668954]      con un promedio de:  33117.89078719039\n",
            "\n",
            "Métricas obtenidas en cross-validation para alfa de:  10  -  [27072.344735862815, 40627.4484735728, 37614.070014248624, 28040.838995169077, 36568.6191255667, 24572.99435047842, 27009.248193222942, 44548.92390784475, 26002.341045390778, 39119.20184666977]      con un promedio de:  33117.603068802666\n",
            "\n",
            "Métricas obtenidas en cross-validation para alfa de:  100  -  [27148.085464598294, 40855.63994174293, 37502.207903674804, 27982.87324759873, 36714.85943527004, 24970.24270966485, 26387.06115287841, 45556.48998081978, 26073.904978236944, 39489.29971978633]      con un promedio de:  33268.06645342711\n",
            "\n",
            "Métricas obtenidas en cross-validation para alfa de:  1000  -  [29221.657695287246, 43765.34590421557, 40126.64846302717, 28479.895136553947, 41425.10187155793, 27255.57795261599, 24511.185345181657, 52607.40515790385, 30720.052739072944, 42533.59966742459]      con un promedio de:  36064.646993284085\n",
            "\n",
            "Métricas obtenidas en cross-validation para alfa de:  10000  -  [35724.6981244849, 53873.14592844242, 52210.57259556242, 32293.57910908364, 49805.181102412585, 34299.41924456094, 28390.314571663213, 55947.24340723635, 35968.47750890177, 43899.26971483976]      con un promedio de:  42241.190130718795\n",
            "-----------------------------------------------------------------------\n",
            "\n",
            "Resultados del Train-Validation:  {0.0001: 33118.05730384387, 0.001: 33118.057126959364, 0.01: 33118.05536079044, 0.1: 33118.037966716765, 1: 33117.89078719039, 10: 33117.603068802666, 100: 33268.06645342711, 1000: 36064.646993284085, 10000: 42241.190130718795}\n",
            "-----------------------------------------------------------------------\n",
            "\n",
            "Mejor valor de métrica en Train-Validation:  33117.603068802666 , Alfa:  10\n",
            "RMSE:  1173118904.3859146\n",
            "R2:  0.774423309536195\n"
          ]
        }
      ]
    },
    {
      "cell_type": "markdown",
      "metadata": {
        "id": "hRSit4mpAqxv"
      },
      "source": [
        "\n",
        "\n",
        "### 1.7 (15 puntos)\n",
        "\n",
        "- Por medio de una tabla u otro método idóneo que Usted determine, resuma todos los resultados obtenidos (o la mayoría).\n",
        "- Grafique comparativamente los valores del real versus el predicho (test), de cada uno de los métodos utilizados.  \n",
        "- Qué conclusiones finales saca sobre los métodos usados como predictores."
      ]
    },
    {
      "cell_type": "code",
      "execution_count": null,
      "metadata": {
        "id": "0bn7ujBQAqxw"
      },
      "outputs": [],
      "source": [
        ""
      ]
    },
    {
      "cell_type": "markdown",
      "metadata": {
        "id": "isDf_v8Fy3IP"
      },
      "source": [
        "___\n",
        "\n",
        "# Parte 2  -  Temas por grupo (20 puntos)\n",
        "___"
      ]
    },
    {
      "cell_type": "markdown",
      "metadata": {
        "id": "EKdOd-ZUy3IP"
      },
      "source": [
        "Considere lo siguiente:\n",
        "1. Revise en el archivo PDF: \"Temas por grupo\", qué cuadernos jupyter le corresponden a su grupo.\n",
        "1. Estudie los cuadernos asignados.\n",
        "1. Prepare un único cuaderno de jupyter (comentando con celdas de texto en español), en que resume y explica las técnicas asignadas.  Debe buscar uno o más datasets diferentes a los que se usan en los cuadernos de jupyter asignados. Deberá adjuntar a su solución el cuaderno jupyter generado y el o los datasets que Usted propone usar en sus cuadernos.\n",
        "1. Prepare un video para una posible presentación de sus temas en clase, no debe durar más 15 minutos en la presentación de los temas asignados (Considere que el material preparado será compartido con sus compañer(a/o)s del curso y por tanto se espera que se esmere en su elaboración y clara explicación -- por favor -- )."
      ]
    },
    {
      "cell_type": "code",
      "execution_count": null,
      "metadata": {
        "id": "k4Ael7w9y3IQ"
      },
      "outputs": [],
      "source": [
        ""
      ]
    }
  ],
  "metadata": {
    "colab": {
      "collapsed_sections": [],
      "name": "2022-1-Trabajo Practico_02.ipynb",
      "provenance": [],
      "include_colab_link": true
    },
    "kernelspec": {
      "display_name": "Python 3 (ipykernel)",
      "language": "python",
      "name": "python3"
    },
    "language_info": {
      "codemirror_mode": {
        "name": "ipython",
        "version": 3
      },
      "file_extension": ".py",
      "mimetype": "text/x-python",
      "name": "python",
      "nbconvert_exporter": "python",
      "pygments_lexer": "ipython3",
      "version": "3.7.11"
    }
  },
  "nbformat": 4,
  "nbformat_minor": 0
}